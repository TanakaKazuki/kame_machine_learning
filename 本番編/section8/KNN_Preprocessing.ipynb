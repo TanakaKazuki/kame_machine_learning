{
 "cells": [
  {
   "cell_type": "markdown",
   "id": "ac783190-9510-42b0-87b9-b70b82489819",
   "metadata": {},
   "source": [
    "## kNNを使って欠損値を予測し補填"
   ]
  },
  {
   "cell_type": "code",
   "execution_count": 16,
   "id": "dec74762-220c-4d55-9d78-01314b76ac3a",
   "metadata": {},
   "outputs": [],
   "source": [
    "import pandas as pd\n",
    "from sklearn.neighbors import KNeighborsRegressor\n",
    "from sklearn.impute import KNNImputer\n",
    "from sklearn.model_selection import train_test_split\n",
    "from sklearn.preprocessing import StandardScaler\n",
    "import numpy as np"
   ]
  },
  {
   "cell_type": "code",
   "execution_count": 20,
   "id": "28300be2-f618-46aa-a646-fe0f502944a9",
   "metadata": {},
   "outputs": [],
   "source": [
    "df = pd.read_csv('../section7/vgsales.csv')\n",
    "\n",
    "# knnの学習データには、テストデータは含めない\n",
    "# テストデータに対しても、学習データを使ったkNNで予測する\n",
    "df[['Publisher']] = df[['Publisher']].fillna('NaN')\n",
    "df.drop('Name', axis = 1, inplace = True)\n",
    "\n",
    "target = 'Year'\n",
    "X = df.drop(target, axis = 1)\n",
    "y = df[target]\n",
    "\n",
    "num_cols = X.select_dtypes(include=np.number).columns.to_list()\n",
    "# ダミー変数\n",
    "X = pd.get_dummies(X, drop_first = True)\n",
    "# 機械学習でtrain, testを分ける必要がある実務の場合はtrainでのみfit\n",
    "X[num_cols] = StandardScaler().fit_transform(X[num_cols])"
   ]
  },
  {
   "cell_type": "code",
   "execution_count": 23,
   "id": "ea5d937b-45cf-41f4-be72-d52bded872ca",
   "metadata": {},
   "outputs": [],
   "source": [
    "train_indexes = df[~df['Year'].isna()].index\n",
    "test_indexes = df[df['Year'].isna()].index\n",
    "\n",
    "X_train, X_test = X.iloc[train_indexes], X.iloc[test_indexes]\n",
    "y_train, y_test = y.iloc[train_indexes], y.iloc[test_indexes]"
   ]
  },
  {
   "cell_type": "code",
   "execution_count": 27,
   "id": "c0dff7bc-2c36-4e32-910a-598e83a1c9e7",
   "metadata": {},
   "outputs": [],
   "source": [
    "knn = KNeighborsRegressor(n_neighbors=3)\n",
    "knn.fit(X_train, y_train)\n",
    "y_pred = knn.predict(X_test)"
   ]
  },
  {
   "cell_type": "code",
   "execution_count": 28,
   "id": "e03fe938-5517-456d-8a4a-045600185606",
   "metadata": {},
   "outputs": [
    {
     "data": {
      "text/html": [
       "<div>\n",
       "<style scoped>\n",
       "    .dataframe tbody tr th:only-of-type {\n",
       "        vertical-align: middle;\n",
       "    }\n",
       "\n",
       "    .dataframe tbody tr th {\n",
       "        vertical-align: top;\n",
       "    }\n",
       "\n",
       "    .dataframe thead th {\n",
       "        text-align: right;\n",
       "    }\n",
       "</style>\n",
       "<table border=\"1\" class=\"dataframe\">\n",
       "  <thead>\n",
       "    <tr style=\"text-align: right;\">\n",
       "      <th></th>\n",
       "      <th>Rank</th>\n",
       "      <th>NA_Sales</th>\n",
       "      <th>EU_Sales</th>\n",
       "      <th>JP_Sales</th>\n",
       "      <th>Other_Sales</th>\n",
       "      <th>Global_Sales</th>\n",
       "      <th>Platform_3DO</th>\n",
       "      <th>Platform_3DS</th>\n",
       "      <th>Platform_DC</th>\n",
       "      <th>Platform_DS</th>\n",
       "      <th>...</th>\n",
       "      <th>Publisher_Zushi Games</th>\n",
       "      <th>Publisher_bitComposer Games</th>\n",
       "      <th>Publisher_dramatic create</th>\n",
       "      <th>Publisher_fonfun</th>\n",
       "      <th>Publisher_iWin</th>\n",
       "      <th>Publisher_id Software</th>\n",
       "      <th>Publisher_imageepoch Inc.</th>\n",
       "      <th>Publisher_inXile Entertainment</th>\n",
       "      <th>Publisher_mixi, Inc</th>\n",
       "      <th>Publisher_responDESIGN</th>\n",
       "    </tr>\n",
       "  </thead>\n",
       "  <tbody>\n",
       "    <tr>\n",
       "      <th>179</th>\n",
       "      <td>-1.69472</td>\n",
       "      <td>4.892293</td>\n",
       "      <td>0.224302</td>\n",
       "      <td>-0.219159</td>\n",
       "      <td>3.510062</td>\n",
       "      <td>3.01776</td>\n",
       "      <td>0</td>\n",
       "      <td>0</td>\n",
       "      <td>0</td>\n",
       "      <td>0</td>\n",
       "      <td>...</td>\n",
       "      <td>0</td>\n",
       "      <td>0</td>\n",
       "      <td>0</td>\n",
       "      <td>0</td>\n",
       "      <td>0</td>\n",
       "      <td>0</td>\n",
       "      <td>0</td>\n",
       "      <td>0</td>\n",
       "      <td>0</td>\n",
       "      <td>0</td>\n",
       "    </tr>\n",
       "  </tbody>\n",
       "</table>\n",
       "<p>1 rows × 625 columns</p>\n",
       "</div>"
      ],
      "text/plain": [
       "        Rank  NA_Sales  EU_Sales  JP_Sales  Other_Sales  Global_Sales  \\\n",
       "179 -1.69472  4.892293  0.224302 -0.219159     3.510062       3.01776   \n",
       "\n",
       "     Platform_3DO  Platform_3DS  Platform_DC  Platform_DS  ...  \\\n",
       "179             0             0            0            0  ...   \n",
       "\n",
       "     Publisher_Zushi Games  Publisher_bitComposer Games  \\\n",
       "179                      0                            0   \n",
       "\n",
       "     Publisher_dramatic create  Publisher_fonfun  Publisher_iWin  \\\n",
       "179                          0                 0               0   \n",
       "\n",
       "     Publisher_id Software  Publisher_imageepoch Inc.  \\\n",
       "179                      0                          0   \n",
       "\n",
       "     Publisher_inXile Entertainment  Publisher_mixi, Inc  \\\n",
       "179                               0                    0   \n",
       "\n",
       "     Publisher_responDESIGN  \n",
       "179                       0  \n",
       "\n",
       "[1 rows x 625 columns]"
      ]
     },
     "execution_count": 28,
     "metadata": {},
     "output_type": "execute_result"
    }
   ],
   "source": [
    "X_test.head(1)"
   ]
  },
  {
   "cell_type": "code",
   "execution_count": 34,
   "id": "0003304d-b8da-4460-8869-0a3360dff424",
   "metadata": {},
   "outputs": [
    {
     "name": "stdout",
     "output_type": "stream",
     "text": [
      "(array([[0.47983803, 1.05095264, 1.53257282]]), array([[210, 239, 278]]))\n"
     ]
    },
    {
     "data": {
      "text/html": [
       "<div>\n",
       "<style scoped>\n",
       "    .dataframe tbody tr th:only-of-type {\n",
       "        vertical-align: middle;\n",
       "    }\n",
       "\n",
       "    .dataframe tbody tr th {\n",
       "        vertical-align: top;\n",
       "    }\n",
       "\n",
       "    .dataframe thead th {\n",
       "        text-align: right;\n",
       "    }\n",
       "</style>\n",
       "<table border=\"1\" class=\"dataframe\">\n",
       "  <thead>\n",
       "    <tr style=\"text-align: right;\">\n",
       "      <th></th>\n",
       "      <th>Rank</th>\n",
       "      <th>Platform</th>\n",
       "      <th>Year</th>\n",
       "      <th>Genre</th>\n",
       "      <th>Publisher</th>\n",
       "      <th>NA_Sales</th>\n",
       "      <th>EU_Sales</th>\n",
       "      <th>JP_Sales</th>\n",
       "      <th>Other_Sales</th>\n",
       "      <th>Global_Sales</th>\n",
       "    </tr>\n",
       "  </thead>\n",
       "  <tbody>\n",
       "    <tr>\n",
       "      <th>210</th>\n",
       "      <td>211</td>\n",
       "      <td>PS3</td>\n",
       "      <td>2007.0</td>\n",
       "      <td>Action</td>\n",
       "      <td>Sony Computer Entertainment</td>\n",
       "      <td>2.31</td>\n",
       "      <td>1.73</td>\n",
       "      <td>0.12</td>\n",
       "      <td>0.78</td>\n",
       "      <td>4.94</td>\n",
       "    </tr>\n",
       "    <tr>\n",
       "      <th>239</th>\n",
       "      <td>240</td>\n",
       "      <td>2600</td>\n",
       "      <td>1981.0</td>\n",
       "      <td>Platform</td>\n",
       "      <td>Activision</td>\n",
       "      <td>4.21</td>\n",
       "      <td>0.24</td>\n",
       "      <td>0.00</td>\n",
       "      <td>0.05</td>\n",
       "      <td>4.50</td>\n",
       "    </tr>\n",
       "    <tr>\n",
       "      <th>278</th>\n",
       "      <td>279</td>\n",
       "      <td>PS</td>\n",
       "      <td>1997.0</td>\n",
       "      <td>Action</td>\n",
       "      <td>Hasbro Interactive</td>\n",
       "      <td>3.79</td>\n",
       "      <td>0.27</td>\n",
       "      <td>0.00</td>\n",
       "      <td>0.11</td>\n",
       "      <td>4.16</td>\n",
       "    </tr>\n",
       "  </tbody>\n",
       "</table>\n",
       "</div>"
      ],
      "text/plain": [
       "     Rank Platform    Year     Genre                    Publisher  NA_Sales  \\\n",
       "210   211      PS3  2007.0    Action  Sony Computer Entertainment      2.31   \n",
       "239   240     2600  1981.0  Platform                   Activision      4.21   \n",
       "278   279       PS  1997.0    Action           Hasbro Interactive      3.79   \n",
       "\n",
       "     EU_Sales  JP_Sales  Other_Sales  Global_Sales  \n",
       "210      1.73      0.12         0.78          4.94  \n",
       "239      0.24      0.00         0.05          4.50  \n",
       "278      0.27      0.00         0.11          4.16  "
      ]
     },
     "execution_count": 34,
     "metadata": {},
     "output_type": "execute_result"
    }
   ],
   "source": [
    "neighbors = knn.kneighbors(X_test.head(1))\n",
    "print(neighbors)\n",
    "df.iloc[neighbors[1][0]]\n",
    "# 特徴量の調整などを行ってない影響で、GlobalSalesを元に近さを算出しているため\n",
    "# 予測値の妥当性は疑問符"
   ]
  },
  {
   "cell_type": "code",
   "execution_count": null,
   "id": "11c15dd2-1ef0-47b8-a849-c3d49e881607",
   "metadata": {},
   "outputs": [],
   "source": []
  }
 ],
 "metadata": {
  "kernelspec": {
   "display_name": "Python 3 (ipykernel)",
   "language": "python",
   "name": "python3"
  },
  "language_info": {
   "codemirror_mode": {
    "name": "ipython",
    "version": 3
   },
   "file_extension": ".py",
   "mimetype": "text/x-python",
   "name": "python",
   "nbconvert_exporter": "python",
   "pygments_lexer": "ipython3",
   "version": "3.9.13"
  }
 },
 "nbformat": 4,
 "nbformat_minor": 5
}
