{
 "cells": [
  {
   "cell_type": "markdown",
   "id": "fff888a7-67c2-4077-8416-c2a4ffdd5cec",
   "metadata": {},
   "source": [
    "# 特徴量選択"
   ]
  },
  {
   "cell_type": "markdown",
   "id": "7e73f560-4151-42b5-9732-3631bdc7e3d3",
   "metadata": {},
   "source": [
    "## greedy feature selection\n",
    "- 前処理\n",
    "  - 欠損値が多いデータは削除\n",
    "  - カテゴリカルの欠損値にはNaNを代入し新たなカテゴリとして扱う\n",
    "  - one-hot encodingでダミー変数化\n",
    "  - 標準化\n",
    "- 特徴量エンジニアリング\n",
    "  - 多項式特徴量\n",
    "  - 四則演算\n",
    "- greedy feature selectionをクラスで実装\n",
    "  - kFoldで評価\n",
    "  - 引数にPipelineを受け取る\n",
    "- 精度の推移と、選択された特徴量を確認"
   ]
  },
  {
   "cell_type": "code",
   "execution_count": 22,
   "id": "d8b4d92f-7568-4692-a2f6-171fabc8b9db",
   "metadata": {},
   "outputs": [],
   "source": [
    "import pandas as pd\n",
    "import numpy as np\n",
    "from sklearn.impute import SimpleImputer\n",
    "from sklearn.base import BaseEstimator, TransformerMixin\n",
    "from sklearn.preprocessing import PolynomialFeatures\n",
    "from sklearn.pipeline import Pipeline\n",
    "from sklearn.preprocessing import StandardScaler\n",
    "from sklearn.linear_model import LogisticRegression\n",
    "from sklearn.model_selection import train_test_split, RepeatedKFold, cross_val_score"
   ]
  },
  {
   "cell_type": "code",
   "execution_count": 2,
   "id": "b795129a-e9ae-4b6d-b85b-580538848f50",
   "metadata": {},
   "outputs": [
    {
     "data": {
      "text/html": [
       "<div>\n",
       "<style scoped>\n",
       "    .dataframe tbody tr th:only-of-type {\n",
       "        vertical-align: middle;\n",
       "    }\n",
       "\n",
       "    .dataframe tbody tr th {\n",
       "        vertical-align: top;\n",
       "    }\n",
       "\n",
       "    .dataframe thead th {\n",
       "        text-align: right;\n",
       "    }\n",
       "</style>\n",
       "<table border=\"1\" class=\"dataframe\">\n",
       "  <thead>\n",
       "    <tr style=\"text-align: right;\">\n",
       "      <th></th>\n",
       "      <th>species</th>\n",
       "      <th>island</th>\n",
       "      <th>culmen_length_mm</th>\n",
       "      <th>culmen_depth_mm</th>\n",
       "      <th>flipper_length_mm</th>\n",
       "      <th>body_mass_g</th>\n",
       "      <th>sex</th>\n",
       "    </tr>\n",
       "  </thead>\n",
       "  <tbody>\n",
       "    <tr>\n",
       "      <th>0</th>\n",
       "      <td>Adelie</td>\n",
       "      <td>Torgersen</td>\n",
       "      <td>39.1</td>\n",
       "      <td>18.7</td>\n",
       "      <td>181.0</td>\n",
       "      <td>3750.0</td>\n",
       "      <td>MALE</td>\n",
       "    </tr>\n",
       "    <tr>\n",
       "      <th>1</th>\n",
       "      <td>Adelie</td>\n",
       "      <td>Torgersen</td>\n",
       "      <td>39.5</td>\n",
       "      <td>17.4</td>\n",
       "      <td>186.0</td>\n",
       "      <td>3800.0</td>\n",
       "      <td>FEMALE</td>\n",
       "    </tr>\n",
       "    <tr>\n",
       "      <th>2</th>\n",
       "      <td>Adelie</td>\n",
       "      <td>Torgersen</td>\n",
       "      <td>40.3</td>\n",
       "      <td>18.0</td>\n",
       "      <td>195.0</td>\n",
       "      <td>3250.0</td>\n",
       "      <td>FEMALE</td>\n",
       "    </tr>\n",
       "    <tr>\n",
       "      <th>3</th>\n",
       "      <td>Adelie</td>\n",
       "      <td>Torgersen</td>\n",
       "      <td>NaN</td>\n",
       "      <td>NaN</td>\n",
       "      <td>NaN</td>\n",
       "      <td>NaN</td>\n",
       "      <td>NaN</td>\n",
       "    </tr>\n",
       "    <tr>\n",
       "      <th>4</th>\n",
       "      <td>Adelie</td>\n",
       "      <td>Torgersen</td>\n",
       "      <td>36.7</td>\n",
       "      <td>19.3</td>\n",
       "      <td>193.0</td>\n",
       "      <td>3450.0</td>\n",
       "      <td>FEMALE</td>\n",
       "    </tr>\n",
       "  </tbody>\n",
       "</table>\n",
       "</div>"
      ],
      "text/plain": [
       "  species     island  culmen_length_mm  culmen_depth_mm  flipper_length_mm  \\\n",
       "0  Adelie  Torgersen              39.1             18.7              181.0   \n",
       "1  Adelie  Torgersen              39.5             17.4              186.0   \n",
       "2  Adelie  Torgersen              40.3             18.0              195.0   \n",
       "3  Adelie  Torgersen               NaN              NaN                NaN   \n",
       "4  Adelie  Torgersen              36.7             19.3              193.0   \n",
       "\n",
       "   body_mass_g     sex  \n",
       "0       3750.0    MALE  \n",
       "1       3800.0  FEMALE  \n",
       "2       3250.0  FEMALE  \n",
       "3          NaN     NaN  \n",
       "4       3450.0  FEMALE  "
      ]
     },
     "execution_count": 2,
     "metadata": {},
     "output_type": "execute_result"
    }
   ],
   "source": [
    "df = pd.read_csv('../section8/penguins_size.csv')\n",
    "df.head()"
   ]
  },
  {
   "cell_type": "code",
   "execution_count": 5,
   "id": "85192292-0428-4829-a92a-4a03bd046481",
   "metadata": {},
   "outputs": [],
   "source": [
    "df.loc[df[df['sex']== '.'].index, 'sex'] = np.nan"
   ]
  },
  {
   "cell_type": "code",
   "execution_count": 6,
   "id": "944914cb-5f57-4abe-b256-b2b02f5ada09",
   "metadata": {},
   "outputs": [
    {
     "name": "stdout",
     "output_type": "stream",
     "text": [
      "<class 'pandas.core.frame.DataFrame'>\n",
      "RangeIndex: 344 entries, 0 to 343\n",
      "Data columns (total 7 columns):\n",
      " #   Column             Non-Null Count  Dtype  \n",
      "---  ------             --------------  -----  \n",
      " 0   species            344 non-null    object \n",
      " 1   island             344 non-null    object \n",
      " 2   culmen_length_mm   342 non-null    float64\n",
      " 3   culmen_depth_mm    342 non-null    float64\n",
      " 4   flipper_length_mm  342 non-null    float64\n",
      " 5   body_mass_g        342 non-null    float64\n",
      " 6   sex                333 non-null    object \n",
      "dtypes: float64(4), object(3)\n",
      "memory usage: 18.9+ KB\n"
     ]
    }
   ],
   "source": [
    "df.info()"
   ]
  },
  {
   "cell_type": "code",
   "execution_count": 27,
   "id": "30daf45b-992f-4026-93fe-a48ce7833a89",
   "metadata": {},
   "outputs": [
    {
     "name": "stdout",
     "output_type": "stream",
     "text": [
      "#scores_with_candidates#\n",
      "[(0.6929824561403509, 'island')]\n",
      "#scores_with_candidates#\n",
      "[(0.6929824561403509, 'island'), (0.7592592592592592, 'culmen_length_mm')]\n",
      "#scores_with_candidates#\n",
      "[(0.6929824561403509, 'island'), (0.7592592592592592, 'culmen_length_mm'), (0.7563352826510721, 'culmen_depth_mm')]\n",
      "#scores_with_candidates#\n",
      "[(0.6929824561403509, 'island'), (0.7592592592592592, 'culmen_length_mm'), (0.7563352826510721, 'culmen_depth_mm'), (0.7953216374269005, 'flipper_length_mm')]\n",
      "#scores_with_candidates#\n",
      "[(0.6929824561403509, 'island'), (0.7592592592592592, 'culmen_length_mm'), (0.7563352826510721, 'culmen_depth_mm'), (0.7953216374269005, 'flipper_length_mm'), (0.7339181286549707, 'body_mass_g')]\n",
      "#scores_with_candidates#\n",
      "[(0.6929824561403509, 'island'), (0.7592592592592592, 'culmen_length_mm'), (0.7563352826510721, 'culmen_depth_mm'), (0.7953216374269005, 'flipper_length_mm'), (0.7339181286549707, 'body_mass_g'), (0.4093567251461988, 'sex')]\n",
      "#scores_with_candidates#\n",
      "[(0.6929824561403509, 'island'), (0.7592592592592592, 'culmen_length_mm'), (0.7563352826510721, 'culmen_depth_mm'), (0.7953216374269005, 'flipper_length_mm'), (0.7339181286549707, 'body_mass_g'), (0.4093567251461988, 'sex'), (0.7563352826510722, 'culmen_length_mm^2')]\n",
      "#scores_with_candidates#\n",
      "[(0.6929824561403509, 'island'), (0.7592592592592592, 'culmen_length_mm'), (0.7563352826510721, 'culmen_depth_mm'), (0.7953216374269005, 'flipper_length_mm'), (0.7339181286549707, 'body_mass_g'), (0.4093567251461988, 'sex'), (0.7563352826510722, 'culmen_length_mm^2'), (0.5448343079922027, 'culmen_length_mm * culmen_depth_mm')]\n",
      "#scores_with_candidates#\n",
      "[(0.6929824561403509, 'island'), (0.7592592592592592, 'culmen_length_mm'), (0.7563352826510721, 'culmen_depth_mm'), (0.7953216374269005, 'flipper_length_mm'), (0.7339181286549707, 'body_mass_g'), (0.4093567251461988, 'sex'), (0.7563352826510722, 'culmen_length_mm^2'), (0.5448343079922027, 'culmen_length_mm * culmen_depth_mm'), (0.7563352826510721, 'culmen_depth_mm^2')]\n",
      "#scores_with_candidates#\n",
      "[(0.6929824561403509, 'island'), (0.7592592592592592, 'culmen_length_mm'), (0.7563352826510721, 'culmen_depth_mm'), (0.7953216374269005, 'flipper_length_mm'), (0.7339181286549707, 'body_mass_g'), (0.4093567251461988, 'sex'), (0.7563352826510722, 'culmen_length_mm^2'), (0.5448343079922027, 'culmen_length_mm * culmen_depth_mm'), (0.7563352826510721, 'culmen_depth_mm^2'), (0.8021442495126706, 'culmen_diff')]\n",
      "#scores_with_candidates#\n",
      "[(0.6929824561403509, 'island'), (0.7592592592592592, 'culmen_length_mm'), (0.7563352826510721, 'culmen_depth_mm'), (0.7953216374269005, 'flipper_length_mm'), (0.7339181286549707, 'body_mass_g'), (0.4093567251461988, 'sex'), (0.7563352826510722, 'culmen_length_mm^2'), (0.5448343079922027, 'culmen_length_mm * culmen_depth_mm'), (0.7563352826510721, 'culmen_depth_mm^2'), (0.8021442495126706, 'culmen_diff'), (0.9600389863547759, 'culmen_ratio')]\n",
      "#scores_with_candidates[0]#\n",
      "(0.9600389863547759, 'culmen_ratio')\n",
      "best_candidate_score: 0.9600389863547759\n",
      "best_score: -inf\n",
      "#scores_with_candidates#\n",
      "[(0.9902534113060428, 'island')]\n",
      "#scores_with_candidates#\n",
      "[(0.9902534113060428, 'island'), (0.9551656920077973, 'culmen_length_mm')]\n",
      "#scores_with_candidates#\n",
      "[(0.9902534113060428, 'island'), (0.9551656920077973, 'culmen_length_mm'), (0.9600389863547759, 'culmen_depth_mm')]\n",
      "#scores_with_candidates#\n",
      "[(0.9902534113060428, 'island'), (0.9551656920077973, 'culmen_length_mm'), (0.9600389863547759, 'culmen_depth_mm'), (0.9697855750487329, 'flipper_length_mm')]\n",
      "#scores_with_candidates#\n",
      "[(0.9902534113060428, 'island'), (0.9551656920077973, 'culmen_length_mm'), (0.9600389863547759, 'culmen_depth_mm'), (0.9697855750487329, 'flipper_length_mm'), (0.9756335282651071, 'body_mass_g')]\n",
      "#scores_with_candidates#\n",
      "[(0.9902534113060428, 'island'), (0.9551656920077973, 'culmen_length_mm'), (0.9600389863547759, 'culmen_depth_mm'), (0.9697855750487329, 'flipper_length_mm'), (0.9756335282651071, 'body_mass_g'), (0.956140350877193, 'sex')]\n",
      "#scores_with_candidates#\n",
      "[(0.9902534113060428, 'island'), (0.9551656920077973, 'culmen_length_mm'), (0.9600389863547759, 'culmen_depth_mm'), (0.9697855750487329, 'flipper_length_mm'), (0.9756335282651071, 'body_mass_g'), (0.956140350877193, 'sex'), (0.956140350877193, 'culmen_length_mm^2')]\n",
      "#scores_with_candidates#\n",
      "[(0.9902534113060428, 'island'), (0.9551656920077973, 'culmen_length_mm'), (0.9600389863547759, 'culmen_depth_mm'), (0.9697855750487329, 'flipper_length_mm'), (0.9756335282651071, 'body_mass_g'), (0.956140350877193, 'sex'), (0.956140350877193, 'culmen_length_mm^2'), (0.9532163742690059, 'culmen_length_mm * culmen_depth_mm')]\n",
      "#scores_with_candidates#\n",
      "[(0.9902534113060428, 'island'), (0.9551656920077973, 'culmen_length_mm'), (0.9600389863547759, 'culmen_depth_mm'), (0.9697855750487329, 'flipper_length_mm'), (0.9756335282651071, 'body_mass_g'), (0.956140350877193, 'sex'), (0.956140350877193, 'culmen_length_mm^2'), (0.9532163742690059, 'culmen_length_mm * culmen_depth_mm'), (0.9600389863547759, 'culmen_depth_mm^2')]\n",
      "#scores_with_candidates#\n",
      "[(0.9902534113060428, 'island'), (0.9551656920077973, 'culmen_length_mm'), (0.9600389863547759, 'culmen_depth_mm'), (0.9697855750487329, 'flipper_length_mm'), (0.9756335282651071, 'body_mass_g'), (0.956140350877193, 'sex'), (0.956140350877193, 'culmen_length_mm^2'), (0.9532163742690059, 'culmen_length_mm * culmen_depth_mm'), (0.9600389863547759, 'culmen_depth_mm^2'), (0.9600389863547759, 'culmen_diff')]\n",
      "#scores_with_candidates[0]#\n",
      "(0.9902534113060428, 'island')\n",
      "best_candidate_score: 0.9902534113060428\n",
      "best_score: 0.9600389863547759\n",
      "#scores_with_candidates#\n",
      "[(0.9941520467836258, 'culmen_length_mm')]\n",
      "#scores_with_candidates#\n",
      "[(0.9941520467836258, 'culmen_length_mm'), (0.9951267056530215, 'culmen_depth_mm')]\n",
      "#scores_with_candidates#\n",
      "[(0.9941520467836258, 'culmen_length_mm'), (0.9951267056530215, 'culmen_depth_mm'), (0.99317738791423, 'flipper_length_mm')]\n",
      "#scores_with_candidates#\n",
      "[(0.9941520467836258, 'culmen_length_mm'), (0.9951267056530215, 'culmen_depth_mm'), (0.99317738791423, 'flipper_length_mm'), (0.9912280701754386, 'body_mass_g')]\n",
      "#scores_with_candidates#\n",
      "[(0.9941520467836258, 'culmen_length_mm'), (0.9951267056530215, 'culmen_depth_mm'), (0.99317738791423, 'flipper_length_mm'), (0.9912280701754386, 'body_mass_g'), (0.9883040935672516, 'sex')]\n",
      "#scores_with_candidates#\n",
      "[(0.9941520467836258, 'culmen_length_mm'), (0.9951267056530215, 'culmen_depth_mm'), (0.99317738791423, 'flipper_length_mm'), (0.9912280701754386, 'body_mass_g'), (0.9883040935672516, 'sex'), (0.99317738791423, 'culmen_length_mm^2')]\n",
      "#scores_with_candidates#\n",
      "[(0.9941520467836258, 'culmen_length_mm'), (0.9951267056530215, 'culmen_depth_mm'), (0.99317738791423, 'flipper_length_mm'), (0.9912280701754386, 'body_mass_g'), (0.9883040935672516, 'sex'), (0.99317738791423, 'culmen_length_mm^2'), (0.9883040935672516, 'culmen_length_mm * culmen_depth_mm')]\n",
      "#scores_with_candidates#\n",
      "[(0.9941520467836258, 'culmen_length_mm'), (0.9951267056530215, 'culmen_depth_mm'), (0.99317738791423, 'flipper_length_mm'), (0.9912280701754386, 'body_mass_g'), (0.9883040935672516, 'sex'), (0.99317738791423, 'culmen_length_mm^2'), (0.9883040935672516, 'culmen_length_mm * culmen_depth_mm'), (0.9951267056530215, 'culmen_depth_mm^2')]\n",
      "#scores_with_candidates#\n",
      "[(0.9941520467836258, 'culmen_length_mm'), (0.9951267056530215, 'culmen_depth_mm'), (0.99317738791423, 'flipper_length_mm'), (0.9912280701754386, 'body_mass_g'), (0.9883040935672516, 'sex'), (0.99317738791423, 'culmen_length_mm^2'), (0.9883040935672516, 'culmen_length_mm * culmen_depth_mm'), (0.9951267056530215, 'culmen_depth_mm^2'), (0.9980506822612085, 'culmen_diff')]\n",
      "#scores_with_candidates[0]#\n",
      "(0.9980506822612085, 'culmen_diff')\n",
      "best_candidate_score: 0.9980506822612085\n",
      "best_score: 0.9902534113060428\n",
      "#scores_with_candidates#\n",
      "[(0.9951267056530215, 'culmen_length_mm')]\n",
      "#scores_with_candidates#\n",
      "[(0.9951267056530215, 'culmen_length_mm'), (0.9970760233918128, 'culmen_depth_mm')]\n",
      "#scores_with_candidates#\n",
      "[(0.9951267056530215, 'culmen_length_mm'), (0.9970760233918128, 'culmen_depth_mm'), (0.996101364522417, 'flipper_length_mm')]\n",
      "#scores_with_candidates#\n",
      "[(0.9951267056530215, 'culmen_length_mm'), (0.9970760233918128, 'culmen_depth_mm'), (0.996101364522417, 'flipper_length_mm'), (1.0, 'body_mass_g')]\n",
      "#scores_with_candidates#\n",
      "[(0.9951267056530215, 'culmen_length_mm'), (0.9970760233918128, 'culmen_depth_mm'), (0.996101364522417, 'flipper_length_mm'), (1.0, 'body_mass_g'), (0.9970760233918128, 'sex')]\n",
      "#scores_with_candidates#\n",
      "[(0.9951267056530215, 'culmen_length_mm'), (0.9970760233918128, 'culmen_depth_mm'), (0.996101364522417, 'flipper_length_mm'), (1.0, 'body_mass_g'), (0.9970760233918128, 'sex'), (0.9951267056530215, 'culmen_length_mm^2')]\n",
      "#scores_with_candidates#\n",
      "[(0.9951267056530215, 'culmen_length_mm'), (0.9970760233918128, 'culmen_depth_mm'), (0.996101364522417, 'flipper_length_mm'), (1.0, 'body_mass_g'), (0.9970760233918128, 'sex'), (0.9951267056530215, 'culmen_length_mm^2'), (0.9922027290448343, 'culmen_length_mm * culmen_depth_mm')]\n",
      "#scores_with_candidates#\n",
      "[(0.9951267056530215, 'culmen_length_mm'), (0.9970760233918128, 'culmen_depth_mm'), (0.996101364522417, 'flipper_length_mm'), (1.0, 'body_mass_g'), (0.9970760233918128, 'sex'), (0.9951267056530215, 'culmen_length_mm^2'), (0.9922027290448343, 'culmen_length_mm * culmen_depth_mm'), (0.9970760233918128, 'culmen_depth_mm^2')]\n",
      "#scores_with_candidates[0]#\n",
      "(1.0, 'body_mass_g')\n",
      "best_candidate_score: 1.0\n",
      "best_score: 0.9980506822612085\n",
      "#scores_with_candidates#\n",
      "[(0.9970760233918128, 'culmen_length_mm')]\n",
      "#scores_with_candidates#\n",
      "[(0.9970760233918128, 'culmen_length_mm'), (0.9990253411306043, 'culmen_depth_mm')]\n",
      "#scores_with_candidates#\n",
      "[(0.9970760233918128, 'culmen_length_mm'), (0.9990253411306043, 'culmen_depth_mm'), (0.9980506822612085, 'flipper_length_mm')]\n",
      "#scores_with_candidates#\n",
      "[(0.9970760233918128, 'culmen_length_mm'), (0.9990253411306043, 'culmen_depth_mm'), (0.9980506822612085, 'flipper_length_mm'), (1.0, 'sex')]\n",
      "#scores_with_candidates#\n",
      "[(0.9970760233918128, 'culmen_length_mm'), (0.9990253411306043, 'culmen_depth_mm'), (0.9980506822612085, 'flipper_length_mm'), (1.0, 'sex'), (0.9970760233918128, 'culmen_length_mm^2')]\n",
      "#scores_with_candidates#\n",
      "[(0.9970760233918128, 'culmen_length_mm'), (0.9990253411306043, 'culmen_depth_mm'), (0.9980506822612085, 'flipper_length_mm'), (1.0, 'sex'), (0.9970760233918128, 'culmen_length_mm^2'), (0.996101364522417, 'culmen_length_mm * culmen_depth_mm')]\n",
      "#scores_with_candidates#\n",
      "[(0.9970760233918128, 'culmen_length_mm'), (0.9990253411306043, 'culmen_depth_mm'), (0.9980506822612085, 'flipper_length_mm'), (1.0, 'sex'), (0.9970760233918128, 'culmen_length_mm^2'), (0.996101364522417, 'culmen_length_mm * culmen_depth_mm'), (0.9990253411306043, 'culmen_depth_mm^2')]\n",
      "#scores_with_candidates[0]#\n",
      "(1.0, 'sex')\n",
      "best_candidate_score: 1.0\n",
      "best_score: 1.0\n"
     ]
    },
    {
     "data": {
      "text/html": [
       "<div>\n",
       "<style scoped>\n",
       "    .dataframe tbody tr th:only-of-type {\n",
       "        vertical-align: middle;\n",
       "    }\n",
       "\n",
       "    .dataframe tbody tr th {\n",
       "        vertical-align: top;\n",
       "    }\n",
       "\n",
       "    .dataframe thead th {\n",
       "        text-align: right;\n",
       "    }\n",
       "</style>\n",
       "<table border=\"1\" class=\"dataframe\">\n",
       "  <thead>\n",
       "    <tr style=\"text-align: right;\">\n",
       "      <th></th>\n",
       "      <th>culmen_ratio</th>\n",
       "      <th>island</th>\n",
       "      <th>culmen_diff</th>\n",
       "      <th>body_mass_g</th>\n",
       "    </tr>\n",
       "  </thead>\n",
       "  <tbody>\n",
       "    <tr>\n",
       "      <th>0</th>\n",
       "      <td>2.090909</td>\n",
       "      <td>Torgersen</td>\n",
       "      <td>20.4</td>\n",
       "      <td>3750.0</td>\n",
       "    </tr>\n",
       "    <tr>\n",
       "      <th>1</th>\n",
       "      <td>2.270115</td>\n",
       "      <td>Torgersen</td>\n",
       "      <td>22.1</td>\n",
       "      <td>3800.0</td>\n",
       "    </tr>\n",
       "    <tr>\n",
       "      <th>2</th>\n",
       "      <td>2.238889</td>\n",
       "      <td>Torgersen</td>\n",
       "      <td>22.3</td>\n",
       "      <td>3250.0</td>\n",
       "    </tr>\n",
       "    <tr>\n",
       "      <th>4</th>\n",
       "      <td>1.901554</td>\n",
       "      <td>Torgersen</td>\n",
       "      <td>17.4</td>\n",
       "      <td>3450.0</td>\n",
       "    </tr>\n",
       "    <tr>\n",
       "      <th>5</th>\n",
       "      <td>1.907767</td>\n",
       "      <td>Torgersen</td>\n",
       "      <td>18.7</td>\n",
       "      <td>3650.0</td>\n",
       "    </tr>\n",
       "    <tr>\n",
       "      <th>...</th>\n",
       "      <td>...</td>\n",
       "      <td>...</td>\n",
       "      <td>...</td>\n",
       "      <td>...</td>\n",
       "    </tr>\n",
       "    <tr>\n",
       "      <th>338</th>\n",
       "      <td>3.445255</td>\n",
       "      <td>Biscoe</td>\n",
       "      <td>33.5</td>\n",
       "      <td>4925.0</td>\n",
       "    </tr>\n",
       "    <tr>\n",
       "      <th>340</th>\n",
       "      <td>3.272727</td>\n",
       "      <td>Biscoe</td>\n",
       "      <td>32.5</td>\n",
       "      <td>4850.0</td>\n",
       "    </tr>\n",
       "    <tr>\n",
       "      <th>341</th>\n",
       "      <td>3.210191</td>\n",
       "      <td>Biscoe</td>\n",
       "      <td>34.7</td>\n",
       "      <td>5750.0</td>\n",
       "    </tr>\n",
       "    <tr>\n",
       "      <th>342</th>\n",
       "      <td>3.054054</td>\n",
       "      <td>Biscoe</td>\n",
       "      <td>30.4</td>\n",
       "      <td>5200.0</td>\n",
       "    </tr>\n",
       "    <tr>\n",
       "      <th>343</th>\n",
       "      <td>3.099379</td>\n",
       "      <td>Biscoe</td>\n",
       "      <td>33.8</td>\n",
       "      <td>5400.0</td>\n",
       "    </tr>\n",
       "  </tbody>\n",
       "</table>\n",
       "<p>342 rows × 4 columns</p>\n",
       "</div>"
      ],
      "text/plain": [
       "     culmen_ratio     island  culmen_diff  body_mass_g\n",
       "0        2.090909  Torgersen         20.4       3750.0\n",
       "1        2.270115  Torgersen         22.1       3800.0\n",
       "2        2.238889  Torgersen         22.3       3250.0\n",
       "4        1.901554  Torgersen         17.4       3450.0\n",
       "5        1.907767  Torgersen         18.7       3650.0\n",
       "..            ...        ...          ...          ...\n",
       "338      3.445255     Biscoe         33.5       4925.0\n",
       "340      3.272727     Biscoe         32.5       4850.0\n",
       "341      3.210191     Biscoe         34.7       5750.0\n",
       "342      3.054054     Biscoe         30.4       5200.0\n",
       "343      3.099379     Biscoe         33.8       5400.0\n",
       "\n",
       "[342 rows x 4 columns]"
      ]
     },
     "execution_count": 27,
     "metadata": {},
     "output_type": "execute_result"
    }
   ],
   "source": [
    "# 今回は欠損が多いデータはdropしてしまう\n",
    "df.dropna(thresh = 3, inplace=True) # thresh個の欠損ではない値を持たない行はdrop\n",
    "#df.info()\n",
    "\n",
    "target = 'species'\n",
    "X = df.drop(target, axis =1)\n",
    "y = df[target]\n",
    "\n",
    "# 欠損値（カテゴリカル変数の欠損値には'NaNを入れる'）\n",
    "imputer = SimpleImputer(strategy='constant', fill_value='NaN')\n",
    "imputer.set_output(transform='pandas')\n",
    "imputer.fit_transform(X)\n",
    "\n",
    "# 今回はGreedy feature selectionを、one-hot encodingでカテゴリカル変数を増やす前の粒度で行いたい\n",
    "# 　そのため、greedy feature selectionクラス内のkFoldでダミー変数化する\n",
    "#   ※ 別に、カテゴリカル変数を増やした後で GFSしても良いが今回は避ける\n",
    "\n",
    "\n",
    "# one-hot encoding\n",
    "class GetDummies(BaseEstimator, TransformerMixin): #2つのクラスを継承\n",
    "    \n",
    "    def __init__(self):\n",
    "        self.columns = None\n",
    "    \n",
    "    def fit(self, X, y = None):\n",
    "        self.columns = pd.get_dummies(X).columns\n",
    "        return self\n",
    "    \n",
    "    def transform(self, X):\n",
    "        X_new = pd.get_dummies(X)\n",
    "        return X_new.reindex(columns = self.columns, fill_value = 0)\n",
    "\n",
    "# 特徴量エンジニアリング（多項式特徴量・四則演算）\n",
    "poly = PolynomialFeatures(degree=2, include_bias=False)\n",
    "X[['culmen_length_mm','culmen_depth_mm','culmen_length_mm^2','culmen_length_mm * culmen_depth_mm','culmen_depth_mm^2']] = poly.fit_transform(X[['culmen_length_mm','culmen_depth_mm']])\n",
    "X['culmen_diff'] = X['culmen_length_mm'] - X['culmen_depth_mm']\n",
    "X['culmen_ratio'] = X['culmen_length_mm'] / X['culmen_depth_mm']\n",
    "\n",
    "\n",
    "# Pipeline\n",
    "pipeline = Pipeline([('dummy', GetDummies()),\n",
    "          ('scaler', StandardScaler()),\n",
    "          ('model', LogisticRegression())\n",
    "         ])\n",
    "\n",
    "k = 3\n",
    "n_repeates = 3\n",
    "cv = RepeatedKFold(n_splits=k, n_repeats=n_repeates, random_state = 0)\n",
    "\n",
    "# GFE\n",
    "class GreedyFeatureSelection:\n",
    "    def __init__(self, pipeline, cv, scoring='accuracy', n_features_to_select=None):\n",
    "        self.pipeline = pipeline\n",
    "        self.cv = cv\n",
    "        self.scoring = scoring\n",
    "        self.n_features_to_select = n_features_to_select\n",
    "        self.selected_features = []\n",
    "        self.scores = {}\n",
    "\n",
    "    def select_features(self, X, y):\n",
    "        remaining_features = list(X.columns)\n",
    "        best_score = -np.inf\n",
    "\n",
    "        while len(remaining_features) > 0:\n",
    "            scores_with_candidates = []\n",
    "\n",
    "            for feature in remaining_features:\n",
    "                current_features = self.selected_features + [feature]\n",
    "                X_subset = X[current_features]\n",
    "                score = np.mean(cross_val_score(self.pipeline, X_subset, y, cv=self.cv, scoring=self.scoring))\n",
    "\n",
    "                scores_with_candidates.append((score, feature))\n",
    "                print(\"#scores_with_candidates#\")\n",
    "                print(scores_with_candidates)\n",
    "\n",
    "            # 最高スコアの特徴量を選択\n",
    "            scores_with_candidates.sort(reverse=True)\n",
    "            print(\"#scores_with_candidates[0]#\")\n",
    "            print(scores_with_candidates[0])\n",
    "            best_candidate_score, best_candidate_feature = scores_with_candidates[0]\n",
    "            \n",
    "            print(f\"best_candidate_score: {best_candidate_score}\")\n",
    "            print(f\"best_score: {best_score}\")\n",
    "\n",
    "            # 更新\n",
    "            if best_candidate_score > best_score:\n",
    "                best_score = best_candidate_score\n",
    "                self.selected_features.append(best_candidate_feature)\n",
    "                remaining_features.remove(best_candidate_feature)\n",
    "                self.scores[best_candidate_feature] = best_candidate_score\n",
    "\n",
    "                # 途中で停止する条件を指定する場合\n",
    "                if self.n_features_to_select and len(self.selected_features) >= self.n_features_to_select:\n",
    "                    break\n",
    "            else:\n",
    "                break\n",
    "\n",
    "    def transform(self, X):\n",
    "        return X[self.selected_features]\n",
    "\n",
    "    def fit_transform(self, X, y=None):\n",
    "        self.select_features(X, y)\n",
    "        return self.transform(X)\n",
    "\n",
    "# Greedy feature selection\n",
    "gfs = GreedyFeatureSelection(pipeline = pipeline, cv = cv)\n",
    "gfs.fit_transform(X,y)"
   ]
  },
  {
   "cell_type": "markdown",
   "id": "d416c1be-560f-4d49-a505-44eeed514234",
   "metadata": {},
   "source": [
    "## RFE\n",
    "- RFEクラス（sklearnで用意されてる）\n",
    "  - インスタンス生成\n",
    "  - .fit(X,y)でRFEを実施し特徴量選択をする\n",
    "  - .transform(X)で削減された特徴量Xを返す\n",
    "  - .rankingで特徴量の重要度順を確認できる\n",
    "  - .support_で特徴量の選択結果のマスクを取得\n",
    "- sklearn.feature_selection.RFECVクラス\n",
    "  - RFEをCVで実行できる"
   ]
  },
  {
   "cell_type": "code",
   "execution_count": 30,
   "id": "e05f33bb-379d-44f4-b955-966dab536f2b",
   "metadata": {},
   "outputs": [],
   "source": [
    "from sklearn.feature_selection import RFE\n",
    "from sklearn.tree import DecisionTreeClassifier"
   ]
  },
  {
   "cell_type": "code",
   "execution_count": 32,
   "id": "941149a8-821b-488e-ab9f-e36380bdd456",
   "metadata": {},
   "outputs": [
    {
     "data": {
      "text/plain": [
       "array([[349.69      ,  20.4       ,   2.09090909,   0.        ,\n",
       "          1.        ,   1.        ],\n",
       "       [302.76      ,  22.1       ,   2.27011494,   0.        ,\n",
       "          1.        ,   0.        ],\n",
       "       [324.        ,  22.3       ,   2.23888889,   0.        ,\n",
       "          1.        ,   0.        ],\n",
       "       ...,\n",
       "       [246.49      ,  34.7       ,   3.21019108,   0.        ,\n",
       "          0.        ,   1.        ],\n",
       "       [219.04      ,  30.4       ,   3.05405405,   0.        ,\n",
       "          0.        ,   0.        ],\n",
       "       [259.21      ,  33.8       ,   3.09937888,   0.        ,\n",
       "          0.        ,   1.        ]])"
      ]
     },
     "execution_count": 32,
     "metadata": {},
     "output_type": "execute_result"
    }
   ],
   "source": [
    "rfe = RFE(DecisionTreeClassifier(), n_features_to_select=6)\n",
    "# 決定木なので標準化は不要だが、カテゴリカル変数のエンコーディングが必要\n",
    "X = pd.get_dummies(X, drop_first=True)\n",
    "rfe.fit(X, y)\n",
    "rfe.transform(X)"
   ]
  },
  {
   "cell_type": "code",
   "execution_count": 33,
   "id": "d3ea96ce-3087-4795-abdc-246c0be958e4",
   "metadata": {},
   "outputs": [
    {
     "data": {
      "text/plain": [
       "array([7, 6, 5, 4, 3, 2, 1, 1, 1, 1, 1, 1])"
      ]
     },
     "execution_count": 33,
     "metadata": {},
     "output_type": "execute_result"
    }
   ],
   "source": [
    "rfe.ranking_"
   ]
  },
  {
   "cell_type": "code",
   "execution_count": 34,
   "id": "aff6250b-8b4a-4ec0-92a0-e35f641ad84d",
   "metadata": {},
   "outputs": [
    {
     "data": {
      "text/plain": [
       "array(['culmen_depth_mm^2', 'culmen_diff', 'culmen_ratio', 'island_Dream',\n",
       "       'island_Torgersen', 'sex_MALE'], dtype=object)"
      ]
     },
     "execution_count": 34,
     "metadata": {},
     "output_type": "execute_result"
    }
   ],
   "source": [
    "rfe.feature_names_in_[rfe.ranking_ == 1]"
   ]
  },
  {
   "cell_type": "code",
   "execution_count": 35,
   "id": "c6372151-c978-474e-9f26-362b31000cac",
   "metadata": {},
   "outputs": [
    {
     "data": {
      "text/plain": [
       "array([False, False, False, False, False, False,  True,  True,  True,\n",
       "        True,  True,  True])"
      ]
     },
     "execution_count": 35,
     "metadata": {},
     "output_type": "execute_result"
    }
   ],
   "source": [
    "rfe.support_"
   ]
  },
  {
   "cell_type": "code",
   "execution_count": 36,
   "id": "5cd4b1d7-a3b2-469b-8d5f-d0ab757ae9e2",
   "metadata": {},
   "outputs": [
    {
     "data": {
      "text/plain": [
       "array(['culmen_depth_mm^2', 'culmen_diff', 'culmen_ratio', 'island_Dream',\n",
       "       'island_Torgersen', 'sex_MALE'], dtype=object)"
      ]
     },
     "execution_count": 36,
     "metadata": {},
     "output_type": "execute_result"
    }
   ],
   "source": [
    "rfe.feature_names_in_[rfe.support_]"
   ]
  },
  {
   "cell_type": "code",
   "execution_count": 39,
   "id": "b6f6e9a8-4081-46d9-a885-efde2b6cfcc2",
   "metadata": {},
   "outputs": [
    {
     "data": {
      "text/html": [
       "<style>#sk-container-id-1 {color: black;background-color: white;}#sk-container-id-1 pre{padding: 0;}#sk-container-id-1 div.sk-toggleable {background-color: white;}#sk-container-id-1 label.sk-toggleable__label {cursor: pointer;display: block;width: 100%;margin-bottom: 0;padding: 0.3em;box-sizing: border-box;text-align: center;}#sk-container-id-1 label.sk-toggleable__label-arrow:before {content: \"▸\";float: left;margin-right: 0.25em;color: #696969;}#sk-container-id-1 label.sk-toggleable__label-arrow:hover:before {color: black;}#sk-container-id-1 div.sk-estimator:hover label.sk-toggleable__label-arrow:before {color: black;}#sk-container-id-1 div.sk-toggleable__content {max-height: 0;max-width: 0;overflow: hidden;text-align: left;background-color: #f0f8ff;}#sk-container-id-1 div.sk-toggleable__content pre {margin: 0.2em;color: black;border-radius: 0.25em;background-color: #f0f8ff;}#sk-container-id-1 input.sk-toggleable__control:checked~div.sk-toggleable__content {max-height: 200px;max-width: 100%;overflow: auto;}#sk-container-id-1 input.sk-toggleable__control:checked~label.sk-toggleable__label-arrow:before {content: \"▾\";}#sk-container-id-1 div.sk-estimator input.sk-toggleable__control:checked~label.sk-toggleable__label {background-color: #d4ebff;}#sk-container-id-1 div.sk-label input.sk-toggleable__control:checked~label.sk-toggleable__label {background-color: #d4ebff;}#sk-container-id-1 input.sk-hidden--visually {border: 0;clip: rect(1px 1px 1px 1px);clip: rect(1px, 1px, 1px, 1px);height: 1px;margin: -1px;overflow: hidden;padding: 0;position: absolute;width: 1px;}#sk-container-id-1 div.sk-estimator {font-family: monospace;background-color: #f0f8ff;border: 1px dotted black;border-radius: 0.25em;box-sizing: border-box;margin-bottom: 0.5em;}#sk-container-id-1 div.sk-estimator:hover {background-color: #d4ebff;}#sk-container-id-1 div.sk-parallel-item::after {content: \"\";width: 100%;border-bottom: 1px solid gray;flex-grow: 1;}#sk-container-id-1 div.sk-label:hover label.sk-toggleable__label {background-color: #d4ebff;}#sk-container-id-1 div.sk-serial::before {content: \"\";position: absolute;border-left: 1px solid gray;box-sizing: border-box;top: 0;bottom: 0;left: 50%;z-index: 0;}#sk-container-id-1 div.sk-serial {display: flex;flex-direction: column;align-items: center;background-color: white;padding-right: 0.2em;padding-left: 0.2em;position: relative;}#sk-container-id-1 div.sk-item {position: relative;z-index: 1;}#sk-container-id-1 div.sk-parallel {display: flex;align-items: stretch;justify-content: center;background-color: white;position: relative;}#sk-container-id-1 div.sk-item::before, #sk-container-id-1 div.sk-parallel-item::before {content: \"\";position: absolute;border-left: 1px solid gray;box-sizing: border-box;top: 0;bottom: 0;left: 50%;z-index: -1;}#sk-container-id-1 div.sk-parallel-item {display: flex;flex-direction: column;z-index: 1;position: relative;background-color: white;}#sk-container-id-1 div.sk-parallel-item:first-child::after {align-self: flex-end;width: 50%;}#sk-container-id-1 div.sk-parallel-item:last-child::after {align-self: flex-start;width: 50%;}#sk-container-id-1 div.sk-parallel-item:only-child::after {width: 0;}#sk-container-id-1 div.sk-dashed-wrapped {border: 1px dashed gray;margin: 0 0.4em 0.5em 0.4em;box-sizing: border-box;padding-bottom: 0.4em;background-color: white;}#sk-container-id-1 div.sk-label label {font-family: monospace;font-weight: bold;display: inline-block;line-height: 1.2em;}#sk-container-id-1 div.sk-label-container {text-align: center;}#sk-container-id-1 div.sk-container {/* jupyter's `normalize.less` sets `[hidden] { display: none; }` but bootstrap.min.css set `[hidden] { display: none !important; }` so we also need the `!important` here to be able to override the default hidden behavior on the sphinx rendered scikit-learn.org. See: https://github.com/scikit-learn/scikit-learn/issues/21755 */display: inline-block !important;position: relative;}#sk-container-id-1 div.sk-text-repr-fallback {display: none;}</style><div id=\"sk-container-id-1\" class=\"sk-top-container\"><div class=\"sk-text-repr-fallback\"><pre>Pipeline(steps=[(&#x27;rfe&#x27;,\n",
       "                 RFE(estimator=DecisionTreeClassifier(),\n",
       "                     n_features_to_select=6)),\n",
       "                (&#x27;scaler&#x27;, StandardScaler()), (&#x27;model&#x27;, LogisticRegression())])</pre><b>In a Jupyter environment, please rerun this cell to show the HTML representation or trust the notebook. <br />On GitHub, the HTML representation is unable to render, please try loading this page with nbviewer.org.</b></div><div class=\"sk-container\" hidden><div class=\"sk-item sk-dashed-wrapped\"><div class=\"sk-label-container\"><div class=\"sk-label sk-toggleable\"><input class=\"sk-toggleable__control sk-hidden--visually\" id=\"sk-estimator-id-1\" type=\"checkbox\" ><label for=\"sk-estimator-id-1\" class=\"sk-toggleable__label sk-toggleable__label-arrow\">Pipeline</label><div class=\"sk-toggleable__content\"><pre>Pipeline(steps=[(&#x27;rfe&#x27;,\n",
       "                 RFE(estimator=DecisionTreeClassifier(),\n",
       "                     n_features_to_select=6)),\n",
       "                (&#x27;scaler&#x27;, StandardScaler()), (&#x27;model&#x27;, LogisticRegression())])</pre></div></div></div><div class=\"sk-serial\"><div class=\"sk-item sk-dashed-wrapped\"><div class=\"sk-label-container\"><div class=\"sk-label sk-toggleable\"><input class=\"sk-toggleable__control sk-hidden--visually\" id=\"sk-estimator-id-2\" type=\"checkbox\" ><label for=\"sk-estimator-id-2\" class=\"sk-toggleable__label sk-toggleable__label-arrow\">rfe: RFE</label><div class=\"sk-toggleable__content\"><pre>RFE(estimator=DecisionTreeClassifier(), n_features_to_select=6)</pre></div></div></div><div class=\"sk-parallel\"><div class=\"sk-parallel-item\"><div class=\"sk-item\"><div class=\"sk-label-container\"><div class=\"sk-label sk-toggleable\"><input class=\"sk-toggleable__control sk-hidden--visually\" id=\"sk-estimator-id-3\" type=\"checkbox\" ><label for=\"sk-estimator-id-3\" class=\"sk-toggleable__label sk-toggleable__label-arrow\">estimator: DecisionTreeClassifier</label><div class=\"sk-toggleable__content\"><pre>DecisionTreeClassifier()</pre></div></div></div><div class=\"sk-serial\"><div class=\"sk-item\"><div class=\"sk-estimator sk-toggleable\"><input class=\"sk-toggleable__control sk-hidden--visually\" id=\"sk-estimator-id-4\" type=\"checkbox\" ><label for=\"sk-estimator-id-4\" class=\"sk-toggleable__label sk-toggleable__label-arrow\">DecisionTreeClassifier</label><div class=\"sk-toggleable__content\"><pre>DecisionTreeClassifier()</pre></div></div></div></div></div></div></div></div><div class=\"sk-item\"><div class=\"sk-estimator sk-toggleable\"><input class=\"sk-toggleable__control sk-hidden--visually\" id=\"sk-estimator-id-5\" type=\"checkbox\" ><label for=\"sk-estimator-id-5\" class=\"sk-toggleable__label sk-toggleable__label-arrow\">StandardScaler</label><div class=\"sk-toggleable__content\"><pre>StandardScaler()</pre></div></div></div><div class=\"sk-item\"><div class=\"sk-estimator sk-toggleable\"><input class=\"sk-toggleable__control sk-hidden--visually\" id=\"sk-estimator-id-6\" type=\"checkbox\" ><label for=\"sk-estimator-id-6\" class=\"sk-toggleable__label sk-toggleable__label-arrow\">LogisticRegression</label><div class=\"sk-toggleable__content\"><pre>LogisticRegression()</pre></div></div></div></div></div></div></div>"
      ],
      "text/plain": [
       "Pipeline(steps=[('rfe',\n",
       "                 RFE(estimator=DecisionTreeClassifier(),\n",
       "                     n_features_to_select=6)),\n",
       "                ('scaler', StandardScaler()), ('model', LogisticRegression())])"
      ]
     },
     "execution_count": 39,
     "metadata": {},
     "output_type": "execute_result"
    }
   ],
   "source": [
    "pipeline = Pipeline([\n",
    "    ('rfe', rfe),('scaler', StandardScaler()),('model',LogisticRegression())\n",
    "])\n",
    "scores = cross_val_score(pipeline, X, y , cv =cv)\n",
    "\n",
    "pipeline"
   ]
  },
  {
   "cell_type": "code",
   "execution_count": 41,
   "id": "2350852f-a093-4866-98bc-35bba5a46b9e",
   "metadata": {},
   "outputs": [
    {
     "name": "stdout",
     "output_type": "stream",
     "text": [
      "平均スコア: 0.99317738791423\n"
     ]
    }
   ],
   "source": [
    "# スコアの平均を表示\n",
    "print(\"平均スコア:\", scores.mean())"
   ]
  },
  {
   "cell_type": "code",
   "execution_count": 42,
   "id": "50feeaac-5eb5-40bd-a7dd-4aae25c46578",
   "metadata": {},
   "outputs": [
    {
     "data": {
      "text/plain": [
       "array([[20.4       ,  2.09090909,  0.        ,  1.        ,  1.        ],\n",
       "       [22.1       ,  2.27011494,  0.        ,  1.        ,  0.        ],\n",
       "       [22.3       ,  2.23888889,  0.        ,  1.        ,  0.        ],\n",
       "       ...,\n",
       "       [34.7       ,  3.21019108,  0.        ,  0.        ,  1.        ],\n",
       "       [30.4       ,  3.05405405,  0.        ,  0.        ,  0.        ],\n",
       "       [33.8       ,  3.09937888,  0.        ,  0.        ,  1.        ]])"
      ]
     },
     "execution_count": 42,
     "metadata": {},
     "output_type": "execute_result"
    }
   ],
   "source": [
    "from sklearn.feature_selection import RFECV\n",
    "rfecv = RFECV(DecisionTreeClassifier(), cv = cv)\n",
    "rfecv.fit(X, y)\n",
    "rfecv.transform(X)"
   ]
  },
  {
   "cell_type": "code",
   "execution_count": 44,
   "id": "4ddafe61-7964-45ad-8245-564139545f6c",
   "metadata": {},
   "outputs": [
    {
     "data": {
      "text/plain": [
       "array(['culmen_diff', 'culmen_ratio', 'island_Dream', 'island_Torgersen',\n",
       "       'sex_MALE'], dtype=object)"
      ]
     },
     "execution_count": 44,
     "metadata": {},
     "output_type": "execute_result"
    }
   ],
   "source": [
    "rfecv.feature_names_in_[rfecv.support_]"
   ]
  },
  {
   "cell_type": "code",
   "execution_count": 46,
   "id": "b99ac5b8-7f14-488d-a7c6-ea714623f1e1",
   "metadata": {},
   "outputs": [
    {
     "data": {
      "text/plain": [
       "{'mean_test_score': array([0.87621832, 0.98050682, 0.99122807, 0.99122807, 0.99220273,\n",
       "        0.99122807, 0.99025341, 0.98830409, 0.98927875, 0.99220273,\n",
       "        0.98927875, 0.98927875]),\n",
       " 'std_test_score': array([0.08756755, 0.00903861, 0.00584795, 0.00716225, 0.00646516,\n",
       "        0.00716225, 0.00767447, 0.01094052, 0.00689188, 0.00646516,\n",
       "        0.00803724, 0.00803724]),\n",
       " 'split0_test_score': array([0.97368421, 0.99122807, 0.99122807, 0.99122807, 0.99122807,\n",
       "        0.99122807, 0.99122807, 0.99122807, 0.99122807, 0.99122807,\n",
       "        0.99122807, 0.99122807]),\n",
       " 'split1_test_score': array([0.89473684, 0.98245614, 0.99122807, 0.99122807, 0.99122807,\n",
       "        0.99122807, 0.98245614, 0.96491228, 0.98245614, 0.99122807,\n",
       "        0.99122807, 0.99122807]),\n",
       " 'split2_test_score': array([0.71929825, 0.96491228, 0.98245614, 0.98245614, 0.98245614,\n",
       "        0.98245614, 0.98245614, 0.98245614, 0.98245614, 0.98245614,\n",
       "        0.98245614, 0.98245614]),\n",
       " 'split3_test_score': array([0.94736842, 0.98245614, 1.        , 1.        , 1.        ,\n",
       "        1.        , 1.        , 1.        , 1.        , 1.        ,\n",
       "        1.        , 1.        ]),\n",
       " 'split4_test_score': array([0.93859649, 0.98245614, 0.99122807, 0.98245614, 0.99122807,\n",
       "        0.99122807, 0.99122807, 0.98245614, 0.98245614, 0.99122807,\n",
       "        0.99122807, 0.99122807]),\n",
       " 'split5_test_score': array([0.76315789, 0.98245614, 0.98245614, 0.98245614, 0.98245614,\n",
       "        0.98245614, 0.98245614, 0.98245614, 0.98245614, 0.98245614,\n",
       "        0.98245614, 0.98245614]),\n",
       " 'split6_test_score': array([0.89473684, 0.96491228, 0.99122807, 1.        , 1.        ,\n",
       "        1.        , 1.        , 1.        , 0.99122807, 1.        ,\n",
       "        0.99122807, 0.99122807]),\n",
       " 'split7_test_score': array([0.95614035, 0.98245614, 1.        , 1.        , 1.        ,\n",
       "        1.        , 1.        , 1.        , 1.        , 1.        ,\n",
       "        1.        , 1.        ]),\n",
       " 'split8_test_score': array([0.79824561, 0.99122807, 0.99122807, 0.99122807, 0.99122807,\n",
       "        0.98245614, 0.98245614, 0.99122807, 0.99122807, 0.99122807,\n",
       "        0.97368421, 0.97368421])}"
      ]
     },
     "execution_count": 46,
     "metadata": {},
     "output_type": "execute_result"
    }
   ],
   "source": [
    "# 各ステップ（一つずつ特徴量が減っていく）でのスコア\n",
    "rfecv.cv_results_"
   ]
  },
  {
   "cell_type": "code",
   "execution_count": 49,
   "id": "7a30af08-894e-4d44-b5dc-9a6f73788125",
   "metadata": {},
   "outputs": [
    {
     "data": {
      "text/plain": [
       "<ErrorbarContainer object of 3 artists>"
      ]
     },
     "execution_count": 49,
     "metadata": {},
     "output_type": "execute_result"
    },
    {
     "data": {
      "image/png": "[encoded data removed]",
      "text/plain": [
       "<Figure size 640x480 with 1 Axes>"
      ]
     },
     "metadata": {},
     "output_type": "display_data"
    }
   ],
   "source": [
    "import matplotlib.pyplot as plt\n",
    "plt.errorbar(range(1, 1+len(rfecv.cv_results_['mean_test_score'])),\n",
    "           rfecv.cv_results_['mean_test_score'],\n",
    "           yerr=rfecv.cv_results_['std_test_score'])"
   ]
  },
  {
   "cell_type": "code",
   "execution_count": 50,
   "id": "0ad25359-b607-4019-be01-c5034c9e8011",
   "metadata": {},
   "outputs": [
    {
     "data": {
      "text/plain": [
       "array([0.87621832, 0.98050682, 0.99122807, 0.99122807, 0.99220273,\n",
       "       0.99122807, 0.99025341, 0.98830409, 0.98927875, 0.99220273,\n",
       "       0.98927875, 0.98927875])"
      ]
     },
     "execution_count": 50,
     "metadata": {},
     "output_type": "execute_result"
    }
   ],
   "source": [
    "rfecv.cv_results_['mean_test_score']"
   ]
  },
  {
   "cell_type": "code",
   "execution_count": null,
   "id": "37bc2684-8dfa-46f3-bff8-7060aad436ec",
   "metadata": {},
   "outputs": [],
   "source": [
    "# Pipeline + RFE + cross_val_score:\n",
    "\n",
    "# 一連の流れの中で、RFEが特徴量選択を行い、その後標準化とロジスティック回帰でモデルを学習します。CVはこのパイプライン全体に適用されます。\n",
    "# RFECVを独立して実行する方法:\n",
    "\n",
    "# RFECVは特徴量選択を行い、その後に選択された特徴量セットを使って標準化とモデル学習を行います。この方法はシンプルで、計算効率も高くなります。\n",
    "# どちらの方法を選択するかは、具体的な要件や計算資源に依存しますが、RFECVを独立して実行し、その結果を使ってモデルを学習する方法は、特に大規模なデータセットや計算コストを考慮する際に推奨"
   ]
  },
  {
   "cell_type": "markdown",
   "id": "e27b68b7-3c9a-434e-9a43-cdc101c320c3",
   "metadata": {},
   "source": [
    "## モデルの係数、重要度から特徴量を選択する"
   ]
  },
  {
   "cell_type": "code",
   "execution_count": 53,
   "id": "e9c2f434-d75b-4d63-838a-4e77e5bc1fee",
   "metadata": {},
   "outputs": [],
   "source": [
    "from sklearn.feature_selection import SelectFromModel\n",
    "from sklearn.ensemble import RandomForestClassifier"
   ]
  },
  {
   "cell_type": "code",
   "execution_count": 52,
   "id": "9dd41482-ee63-4f2f-9fcb-0bc2e897d6c0",
   "metadata": {},
   "outputs": [
    {
     "data": {
      "text/html": [
       "<div>\n",
       "<style scoped>\n",
       "    .dataframe tbody tr th:only-of-type {\n",
       "        vertical-align: middle;\n",
       "    }\n",
       "\n",
       "    .dataframe tbody tr th {\n",
       "        vertical-align: top;\n",
       "    }\n",
       "\n",
       "    .dataframe thead th {\n",
       "        text-align: right;\n",
       "    }\n",
       "</style>\n",
       "<table border=\"1\" class=\"dataframe\">\n",
       "  <thead>\n",
       "    <tr style=\"text-align: right;\">\n",
       "      <th></th>\n",
       "      <th>culmen_length_mm</th>\n",
       "      <th>culmen_depth_mm</th>\n",
       "      <th>flipper_length_mm</th>\n",
       "      <th>body_mass_g</th>\n",
       "      <th>culmen_length_mm^2</th>\n",
       "      <th>culmen_length_mm * culmen_depth_mm</th>\n",
       "      <th>culmen_depth_mm^2</th>\n",
       "      <th>culmen_diff</th>\n",
       "      <th>culmen_ratio</th>\n",
       "      <th>island_Dream</th>\n",
       "      <th>island_Torgersen</th>\n",
       "      <th>sex_MALE</th>\n",
       "    </tr>\n",
       "  </thead>\n",
       "  <tbody>\n",
       "    <tr>\n",
       "      <th>0</th>\n",
       "      <td>39.1</td>\n",
       "      <td>18.7</td>\n",
       "      <td>181.0</td>\n",
       "      <td>3750.0</td>\n",
       "      <td>1528.81</td>\n",
       "      <td>731.17</td>\n",
       "      <td>349.69</td>\n",
       "      <td>20.4</td>\n",
       "      <td>2.090909</td>\n",
       "      <td>0</td>\n",
       "      <td>1</td>\n",
       "      <td>1</td>\n",
       "    </tr>\n",
       "    <tr>\n",
       "      <th>1</th>\n",
       "      <td>39.5</td>\n",
       "      <td>17.4</td>\n",
       "      <td>186.0</td>\n",
       "      <td>3800.0</td>\n",
       "      <td>1560.25</td>\n",
       "      <td>687.30</td>\n",
       "      <td>302.76</td>\n",
       "      <td>22.1</td>\n",
       "      <td>2.270115</td>\n",
       "      <td>0</td>\n",
       "      <td>1</td>\n",
       "      <td>0</td>\n",
       "    </tr>\n",
       "    <tr>\n",
       "      <th>2</th>\n",
       "      <td>40.3</td>\n",
       "      <td>18.0</td>\n",
       "      <td>195.0</td>\n",
       "      <td>3250.0</td>\n",
       "      <td>1624.09</td>\n",
       "      <td>725.40</td>\n",
       "      <td>324.00</td>\n",
       "      <td>22.3</td>\n",
       "      <td>2.238889</td>\n",
       "      <td>0</td>\n",
       "      <td>1</td>\n",
       "      <td>0</td>\n",
       "    </tr>\n",
       "    <tr>\n",
       "      <th>4</th>\n",
       "      <td>36.7</td>\n",
       "      <td>19.3</td>\n",
       "      <td>193.0</td>\n",
       "      <td>3450.0</td>\n",
       "      <td>1346.89</td>\n",
       "      <td>708.31</td>\n",
       "      <td>372.49</td>\n",
       "      <td>17.4</td>\n",
       "      <td>1.901554</td>\n",
       "      <td>0</td>\n",
       "      <td>1</td>\n",
       "      <td>0</td>\n",
       "    </tr>\n",
       "    <tr>\n",
       "      <th>5</th>\n",
       "      <td>39.3</td>\n",
       "      <td>20.6</td>\n",
       "      <td>190.0</td>\n",
       "      <td>3650.0</td>\n",
       "      <td>1544.49</td>\n",
       "      <td>809.58</td>\n",
       "      <td>424.36</td>\n",
       "      <td>18.7</td>\n",
       "      <td>1.907767</td>\n",
       "      <td>0</td>\n",
       "      <td>1</td>\n",
       "      <td>1</td>\n",
       "    </tr>\n",
       "    <tr>\n",
       "      <th>...</th>\n",
       "      <td>...</td>\n",
       "      <td>...</td>\n",
       "      <td>...</td>\n",
       "      <td>...</td>\n",
       "      <td>...</td>\n",
       "      <td>...</td>\n",
       "      <td>...</td>\n",
       "      <td>...</td>\n",
       "      <td>...</td>\n",
       "      <td>...</td>\n",
       "      <td>...</td>\n",
       "      <td>...</td>\n",
       "    </tr>\n",
       "    <tr>\n",
       "      <th>338</th>\n",
       "      <td>47.2</td>\n",
       "      <td>13.7</td>\n",
       "      <td>214.0</td>\n",
       "      <td>4925.0</td>\n",
       "      <td>2227.84</td>\n",
       "      <td>646.64</td>\n",
       "      <td>187.69</td>\n",
       "      <td>33.5</td>\n",
       "      <td>3.445255</td>\n",
       "      <td>0</td>\n",
       "      <td>0</td>\n",
       "      <td>0</td>\n",
       "    </tr>\n",
       "    <tr>\n",
       "      <th>340</th>\n",
       "      <td>46.8</td>\n",
       "      <td>14.3</td>\n",
       "      <td>215.0</td>\n",
       "      <td>4850.0</td>\n",
       "      <td>2190.24</td>\n",
       "      <td>669.24</td>\n",
       "      <td>204.49</td>\n",
       "      <td>32.5</td>\n",
       "      <td>3.272727</td>\n",
       "      <td>0</td>\n",
       "      <td>0</td>\n",
       "      <td>0</td>\n",
       "    </tr>\n",
       "    <tr>\n",
       "      <th>341</th>\n",
       "      <td>50.4</td>\n",
       "      <td>15.7</td>\n",
       "      <td>222.0</td>\n",
       "      <td>5750.0</td>\n",
       "      <td>2540.16</td>\n",
       "      <td>791.28</td>\n",
       "      <td>246.49</td>\n",
       "      <td>34.7</td>\n",
       "      <td>3.210191</td>\n",
       "      <td>0</td>\n",
       "      <td>0</td>\n",
       "      <td>1</td>\n",
       "    </tr>\n",
       "    <tr>\n",
       "      <th>342</th>\n",
       "      <td>45.2</td>\n",
       "      <td>14.8</td>\n",
       "      <td>212.0</td>\n",
       "      <td>5200.0</td>\n",
       "      <td>2043.04</td>\n",
       "      <td>668.96</td>\n",
       "      <td>219.04</td>\n",
       "      <td>30.4</td>\n",
       "      <td>3.054054</td>\n",
       "      <td>0</td>\n",
       "      <td>0</td>\n",
       "      <td>0</td>\n",
       "    </tr>\n",
       "    <tr>\n",
       "      <th>343</th>\n",
       "      <td>49.9</td>\n",
       "      <td>16.1</td>\n",
       "      <td>213.0</td>\n",
       "      <td>5400.0</td>\n",
       "      <td>2490.01</td>\n",
       "      <td>803.39</td>\n",
       "      <td>259.21</td>\n",
       "      <td>33.8</td>\n",
       "      <td>3.099379</td>\n",
       "      <td>0</td>\n",
       "      <td>0</td>\n",
       "      <td>1</td>\n",
       "    </tr>\n",
       "  </tbody>\n",
       "</table>\n",
       "<p>342 rows × 12 columns</p>\n",
       "</div>"
      ],
      "text/plain": [
       "     culmen_length_mm  culmen_depth_mm  flipper_length_mm  body_mass_g  \\\n",
       "0                39.1             18.7              181.0       3750.0   \n",
       "1                39.5             17.4              186.0       3800.0   \n",
       "2                40.3             18.0              195.0       3250.0   \n",
       "4                36.7             19.3              193.0       3450.0   \n",
       "5                39.3             20.6              190.0       3650.0   \n",
       "..                ...              ...                ...          ...   \n",
       "338              47.2             13.7              214.0       4925.0   \n",
       "340              46.8             14.3              215.0       4850.0   \n",
       "341              50.4             15.7              222.0       5750.0   \n",
       "342              45.2             14.8              212.0       5200.0   \n",
       "343              49.9             16.1              213.0       5400.0   \n",
       "\n",
       "     culmen_length_mm^2  culmen_length_mm * culmen_depth_mm  \\\n",
       "0               1528.81                              731.17   \n",
       "1               1560.25                              687.30   \n",
       "2               1624.09                              725.40   \n",
       "4               1346.89                              708.31   \n",
       "5               1544.49                              809.58   \n",
       "..                  ...                                 ...   \n",
       "338             2227.84                              646.64   \n",
       "340             2190.24                              669.24   \n",
       "341             2540.16                              791.28   \n",
       "342             2043.04                              668.96   \n",
       "343             2490.01                              803.39   \n",
       "\n",
       "     culmen_depth_mm^2  culmen_diff  culmen_ratio  island_Dream  \\\n",
       "0               349.69         20.4      2.090909             0   \n",
       "1               302.76         22.1      2.270115             0   \n",
       "2               324.00         22.3      2.238889             0   \n",
       "4               372.49         17.4      1.901554             0   \n",
       "5               424.36         18.7      1.907767             0   \n",
       "..                 ...          ...           ...           ...   \n",
       "338             187.69         33.5      3.445255             0   \n",
       "340             204.49         32.5      3.272727             0   \n",
       "341             246.49         34.7      3.210191             0   \n",
       "342             219.04         30.4      3.054054             0   \n",
       "343             259.21         33.8      3.099379             0   \n",
       "\n",
       "     island_Torgersen  sex_MALE  \n",
       "0                   1         1  \n",
       "1                   1         0  \n",
       "2                   1         0  \n",
       "4                   1         0  \n",
       "5                   1         1  \n",
       "..                ...       ...  \n",
       "338                 0         0  \n",
       "340                 0         0  \n",
       "341                 0         1  \n",
       "342                 0         0  \n",
       "343                 0         1  \n",
       "\n",
       "[342 rows x 12 columns]"
      ]
     },
     "execution_count": 52,
     "metadata": {},
     "output_type": "execute_result"
    }
   ],
   "source": [
    "X"
   ]
  },
  {
   "cell_type": "code",
   "execution_count": 54,
   "id": "cf8f8de3-fefe-4c27-bd47-cccf29f50dc5",
   "metadata": {},
   "outputs": [],
   "source": [
    "sfm = SelectFromModel(RandomForestClassifier(random_state=0), threshold='mean')\n",
    "X_selected = sfm.fit_transform(X, y)"
   ]
  },
  {
   "cell_type": "code",
   "execution_count": 56,
   "id": "34c644d2-170f-4648-9d78-8ce521efd053",
   "metadata": {},
   "outputs": [
    {
     "data": {
      "text/html": [
       "<style>#sk-container-id-2 {color: black;background-color: white;}#sk-container-id-2 pre{padding: 0;}#sk-container-id-2 div.sk-toggleable {background-color: white;}#sk-container-id-2 label.sk-toggleable__label {cursor: pointer;display: block;width: 100%;margin-bottom: 0;padding: 0.3em;box-sizing: border-box;text-align: center;}#sk-container-id-2 label.sk-toggleable__label-arrow:before {content: \"▸\";float: left;margin-right: 0.25em;color: #696969;}#sk-container-id-2 label.sk-toggleable__label-arrow:hover:before {color: black;}#sk-container-id-2 div.sk-estimator:hover label.sk-toggleable__label-arrow:before {color: black;}#sk-container-id-2 div.sk-toggleable__content {max-height: 0;max-width: 0;overflow: hidden;text-align: left;background-color: #f0f8ff;}#sk-container-id-2 div.sk-toggleable__content pre {margin: 0.2em;color: black;border-radius: 0.25em;background-color: #f0f8ff;}#sk-container-id-2 input.sk-toggleable__control:checked~div.sk-toggleable__content {max-height: 200px;max-width: 100%;overflow: auto;}#sk-container-id-2 input.sk-toggleable__control:checked~label.sk-toggleable__label-arrow:before {content: \"▾\";}#sk-container-id-2 div.sk-estimator input.sk-toggleable__control:checked~label.sk-toggleable__label {background-color: #d4ebff;}#sk-container-id-2 div.sk-label input.sk-toggleable__control:checked~label.sk-toggleable__label {background-color: #d4ebff;}#sk-container-id-2 input.sk-hidden--visually {border: 0;clip: rect(1px 1px 1px 1px);clip: rect(1px, 1px, 1px, 1px);height: 1px;margin: -1px;overflow: hidden;padding: 0;position: absolute;width: 1px;}#sk-container-id-2 div.sk-estimator {font-family: monospace;background-color: #f0f8ff;border: 1px dotted black;border-radius: 0.25em;box-sizing: border-box;margin-bottom: 0.5em;}#sk-container-id-2 div.sk-estimator:hover {background-color: #d4ebff;}#sk-container-id-2 div.sk-parallel-item::after {content: \"\";width: 100%;border-bottom: 1px solid gray;flex-grow: 1;}#sk-container-id-2 div.sk-label:hover label.sk-toggleable__label {background-color: #d4ebff;}#sk-container-id-2 div.sk-serial::before {content: \"\";position: absolute;border-left: 1px solid gray;box-sizing: border-box;top: 0;bottom: 0;left: 50%;z-index: 0;}#sk-container-id-2 div.sk-serial {display: flex;flex-direction: column;align-items: center;background-color: white;padding-right: 0.2em;padding-left: 0.2em;position: relative;}#sk-container-id-2 div.sk-item {position: relative;z-index: 1;}#sk-container-id-2 div.sk-parallel {display: flex;align-items: stretch;justify-content: center;background-color: white;position: relative;}#sk-container-id-2 div.sk-item::before, #sk-container-id-2 div.sk-parallel-item::before {content: \"\";position: absolute;border-left: 1px solid gray;box-sizing: border-box;top: 0;bottom: 0;left: 50%;z-index: -1;}#sk-container-id-2 div.sk-parallel-item {display: flex;flex-direction: column;z-index: 1;position: relative;background-color: white;}#sk-container-id-2 div.sk-parallel-item:first-child::after {align-self: flex-end;width: 50%;}#sk-container-id-2 div.sk-parallel-item:last-child::after {align-self: flex-start;width: 50%;}#sk-container-id-2 div.sk-parallel-item:only-child::after {width: 0;}#sk-container-id-2 div.sk-dashed-wrapped {border: 1px dashed gray;margin: 0 0.4em 0.5em 0.4em;box-sizing: border-box;padding-bottom: 0.4em;background-color: white;}#sk-container-id-2 div.sk-label label {font-family: monospace;font-weight: bold;display: inline-block;line-height: 1.2em;}#sk-container-id-2 div.sk-label-container {text-align: center;}#sk-container-id-2 div.sk-container {/* jupyter's `normalize.less` sets `[hidden] { display: none; }` but bootstrap.min.css set `[hidden] { display: none !important; }` so we also need the `!important` here to be able to override the default hidden behavior on the sphinx rendered scikit-learn.org. See: https://github.com/scikit-learn/scikit-learn/issues/21755 */display: inline-block !important;position: relative;}#sk-container-id-2 div.sk-text-repr-fallback {display: none;}</style><div id=\"sk-container-id-2\" class=\"sk-top-container\"><div class=\"sk-text-repr-fallback\"><pre>RandomForestClassifier(random_state=0)</pre><b>In a Jupyter environment, please rerun this cell to show the HTML representation or trust the notebook. <br />On GitHub, the HTML representation is unable to render, please try loading this page with nbviewer.org.</b></div><div class=\"sk-container\" hidden><div class=\"sk-item\"><div class=\"sk-estimator sk-toggleable\"><input class=\"sk-toggleable__control sk-hidden--visually\" id=\"sk-estimator-id-7\" type=\"checkbox\" checked><label for=\"sk-estimator-id-7\" class=\"sk-toggleable__label sk-toggleable__label-arrow\">RandomForestClassifier</label><div class=\"sk-toggleable__content\"><pre>RandomForestClassifier(random_state=0)</pre></div></div></div></div></div>"
      ],
      "text/plain": [
       "RandomForestClassifier(random_state=0)"
      ]
     },
     "execution_count": 56,
     "metadata": {},
     "output_type": "execute_result"
    }
   ],
   "source": [
    "sfm.estimator_"
   ]
  },
  {
   "cell_type": "code",
   "execution_count": 57,
   "id": "114083ee-0443-47e2-bb6b-1356eb3e1c4c",
   "metadata": {},
   "outputs": [
    {
     "data": {
      "text/plain": [
       "array([0.09446744, 0.07327896, 0.1224425 , 0.05185592, 0.08431536,\n",
       "       0.02614093, 0.05366813, 0.19965974, 0.18910682, 0.10013683,\n",
       "       0.00390842, 0.00101895])"
      ]
     },
     "execution_count": 57,
     "metadata": {},
     "output_type": "execute_result"
    }
   ],
   "source": [
    "sfm.estimator_.feature_importances_"
   ]
  },
  {
   "cell_type": "code",
   "execution_count": 58,
   "id": "370780d4-e5e9-47b5-a7bb-9ae9f3b831b7",
   "metadata": {},
   "outputs": [
    {
     "data": {
      "text/plain": [
       "array(['culmen_length_mm', 'culmen_depth_mm', 'flipper_length_mm',\n",
       "       'body_mass_g', 'culmen_length_mm^2',\n",
       "       'culmen_length_mm * culmen_depth_mm', 'culmen_depth_mm^2',\n",
       "       'culmen_diff', 'culmen_ratio', 'island_Dream', 'island_Torgersen',\n",
       "       'sex_MALE'], dtype=object)"
      ]
     },
     "execution_count": 58,
     "metadata": {},
     "output_type": "execute_result"
    }
   ],
   "source": [
    "sfm.feature_names_in_"
   ]
  },
  {
   "cell_type": "code",
   "execution_count": 59,
   "id": "a9b230cb-353b-4458-8488-e6d777b83914",
   "metadata": {},
   "outputs": [
    {
     "data": {
      "text/plain": [
       "array(['culmen_length_mm', 'flipper_length_mm', 'culmen_length_mm^2',\n",
       "       'culmen_diff', 'culmen_ratio', 'island_Dream'], dtype=object)"
      ]
     },
     "execution_count": 59,
     "metadata": {},
     "output_type": "execute_result"
    }
   ],
   "source": [
    "sfm.feature_names_in_[sfm.get_support()]"
   ]
  },
  {
   "cell_type": "markdown",
   "id": "62e36835-a1b8-4839-960b-9a12ec68043d",
   "metadata": {},
   "source": [
    "## L1正則化項で特徴量選択をする"
   ]
  },
  {
   "cell_type": "code",
   "execution_count": null,
   "id": "db582ac7-3255-41a3-932f-69d70778ac2e",
   "metadata": {},
   "outputs": [],
   "source": []
  }
 ],
 "metadata": {
  "kernelspec": {
   "display_name": "Python 3 (ipykernel)",
   "language": "python",
   "name": "python3"
  },
  "language_info": {
   "codemirror_mode": {
    "name": "ipython",
    "version": 3
   },
   "file_extension": ".py",
   "mimetype": "text/x-python",
   "name": "python",
   "nbconvert_exporter": "python",
   "pygments_lexer": "ipython3",
   "version": "3.9.13"
  }
 },
 "nbformat": 4,
 "nbformat_minor": 5
}
