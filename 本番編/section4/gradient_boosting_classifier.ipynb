{
 "cells": [
  {
   "cell_type": "markdown",
   "id": "369f257a-152c-4da1-9dc0-8a3fa4ec7022",
   "metadata": {},
   "source": [
    "# 勾配ブースティング（分類）\n",
    "## スクラッチ"
   ]
  },
  {
   "cell_type": "code",
   "execution_count": 24,
   "id": "7d06772b-3ec9-4968-bfe9-74437a6c1421",
   "metadata": {},
   "outputs": [],
   "source": [
    "import numpy as np\n",
    "import pandas as pd\n",
    "import seaborn as sns\n",
    "from sklearn.model_selection import train_test_split\n",
    "from sklearn.tree import DecisionTreeRegressor\n",
    "from sklearn.preprocessing import OrdinalEncoder\n",
    "from sklearn.tree import DecisionTreeRegressor\n",
    "from sklearn.tree import DecisionTreeRegressor, plot_tree\n"
   ]
  },
  {
   "cell_type": "code",
   "execution_count": 25,
   "id": "3edcc1a1-2919-4285-953d-10dd572af414",
   "metadata": {},
   "outputs": [
    {
     "data": {
      "text/html": [
       "<div>\n",
       "<style scoped>\n",
       "    .dataframe tbody tr th:only-of-type {\n",
       "        vertical-align: middle;\n",
       "    }\n",
       "\n",
       "    .dataframe tbody tr th {\n",
       "        vertical-align: top;\n",
       "    }\n",
       "\n",
       "    .dataframe thead th {\n",
       "        text-align: right;\n",
       "    }\n",
       "</style>\n",
       "<table border=\"1\" class=\"dataframe\">\n",
       "  <thead>\n",
       "    <tr style=\"text-align: right;\">\n",
       "      <th></th>\n",
       "      <th>survived</th>\n",
       "      <th>pclass</th>\n",
       "      <th>sex</th>\n",
       "      <th>age</th>\n",
       "      <th>sibsp</th>\n",
       "      <th>parch</th>\n",
       "      <th>fare</th>\n",
       "      <th>embarked</th>\n",
       "      <th>class</th>\n",
       "      <th>who</th>\n",
       "      <th>adult_male</th>\n",
       "      <th>deck</th>\n",
       "      <th>embark_town</th>\n",
       "      <th>alive</th>\n",
       "      <th>alone</th>\n",
       "    </tr>\n",
       "  </thead>\n",
       "  <tbody>\n",
       "    <tr>\n",
       "      <th>0</th>\n",
       "      <td>0</td>\n",
       "      <td>3</td>\n",
       "      <td>male</td>\n",
       "      <td>22.0</td>\n",
       "      <td>1</td>\n",
       "      <td>0</td>\n",
       "      <td>7.2500</td>\n",
       "      <td>S</td>\n",
       "      <td>Third</td>\n",
       "      <td>man</td>\n",
       "      <td>True</td>\n",
       "      <td>NaN</td>\n",
       "      <td>Southampton</td>\n",
       "      <td>no</td>\n",
       "      <td>False</td>\n",
       "    </tr>\n",
       "    <tr>\n",
       "      <th>1</th>\n",
       "      <td>1</td>\n",
       "      <td>1</td>\n",
       "      <td>female</td>\n",
       "      <td>38.0</td>\n",
       "      <td>1</td>\n",
       "      <td>0</td>\n",
       "      <td>71.2833</td>\n",
       "      <td>C</td>\n",
       "      <td>First</td>\n",
       "      <td>woman</td>\n",
       "      <td>False</td>\n",
       "      <td>C</td>\n",
       "      <td>Cherbourg</td>\n",
       "      <td>yes</td>\n",
       "      <td>False</td>\n",
       "    </tr>\n",
       "    <tr>\n",
       "      <th>2</th>\n",
       "      <td>1</td>\n",
       "      <td>3</td>\n",
       "      <td>female</td>\n",
       "      <td>26.0</td>\n",
       "      <td>0</td>\n",
       "      <td>0</td>\n",
       "      <td>7.9250</td>\n",
       "      <td>S</td>\n",
       "      <td>Third</td>\n",
       "      <td>woman</td>\n",
       "      <td>False</td>\n",
       "      <td>NaN</td>\n",
       "      <td>Southampton</td>\n",
       "      <td>yes</td>\n",
       "      <td>True</td>\n",
       "    </tr>\n",
       "    <tr>\n",
       "      <th>3</th>\n",
       "      <td>1</td>\n",
       "      <td>1</td>\n",
       "      <td>female</td>\n",
       "      <td>35.0</td>\n",
       "      <td>1</td>\n",
       "      <td>0</td>\n",
       "      <td>53.1000</td>\n",
       "      <td>S</td>\n",
       "      <td>First</td>\n",
       "      <td>woman</td>\n",
       "      <td>False</td>\n",
       "      <td>C</td>\n",
       "      <td>Southampton</td>\n",
       "      <td>yes</td>\n",
       "      <td>False</td>\n",
       "    </tr>\n",
       "    <tr>\n",
       "      <th>4</th>\n",
       "      <td>0</td>\n",
       "      <td>3</td>\n",
       "      <td>male</td>\n",
       "      <td>35.0</td>\n",
       "      <td>0</td>\n",
       "      <td>0</td>\n",
       "      <td>8.0500</td>\n",
       "      <td>S</td>\n",
       "      <td>Third</td>\n",
       "      <td>man</td>\n",
       "      <td>True</td>\n",
       "      <td>NaN</td>\n",
       "      <td>Southampton</td>\n",
       "      <td>no</td>\n",
       "      <td>True</td>\n",
       "    </tr>\n",
       "    <tr>\n",
       "      <th>...</th>\n",
       "      <td>...</td>\n",
       "      <td>...</td>\n",
       "      <td>...</td>\n",
       "      <td>...</td>\n",
       "      <td>...</td>\n",
       "      <td>...</td>\n",
       "      <td>...</td>\n",
       "      <td>...</td>\n",
       "      <td>...</td>\n",
       "      <td>...</td>\n",
       "      <td>...</td>\n",
       "      <td>...</td>\n",
       "      <td>...</td>\n",
       "      <td>...</td>\n",
       "      <td>...</td>\n",
       "    </tr>\n",
       "    <tr>\n",
       "      <th>886</th>\n",
       "      <td>0</td>\n",
       "      <td>2</td>\n",
       "      <td>male</td>\n",
       "      <td>27.0</td>\n",
       "      <td>0</td>\n",
       "      <td>0</td>\n",
       "      <td>13.0000</td>\n",
       "      <td>S</td>\n",
       "      <td>Second</td>\n",
       "      <td>man</td>\n",
       "      <td>True</td>\n",
       "      <td>NaN</td>\n",
       "      <td>Southampton</td>\n",
       "      <td>no</td>\n",
       "      <td>True</td>\n",
       "    </tr>\n",
       "    <tr>\n",
       "      <th>887</th>\n",
       "      <td>1</td>\n",
       "      <td>1</td>\n",
       "      <td>female</td>\n",
       "      <td>19.0</td>\n",
       "      <td>0</td>\n",
       "      <td>0</td>\n",
       "      <td>30.0000</td>\n",
       "      <td>S</td>\n",
       "      <td>First</td>\n",
       "      <td>woman</td>\n",
       "      <td>False</td>\n",
       "      <td>B</td>\n",
       "      <td>Southampton</td>\n",
       "      <td>yes</td>\n",
       "      <td>True</td>\n",
       "    </tr>\n",
       "    <tr>\n",
       "      <th>888</th>\n",
       "      <td>0</td>\n",
       "      <td>3</td>\n",
       "      <td>female</td>\n",
       "      <td>NaN</td>\n",
       "      <td>1</td>\n",
       "      <td>2</td>\n",
       "      <td>23.4500</td>\n",
       "      <td>S</td>\n",
       "      <td>Third</td>\n",
       "      <td>woman</td>\n",
       "      <td>False</td>\n",
       "      <td>NaN</td>\n",
       "      <td>Southampton</td>\n",
       "      <td>no</td>\n",
       "      <td>False</td>\n",
       "    </tr>\n",
       "    <tr>\n",
       "      <th>889</th>\n",
       "      <td>1</td>\n",
       "      <td>1</td>\n",
       "      <td>male</td>\n",
       "      <td>26.0</td>\n",
       "      <td>0</td>\n",
       "      <td>0</td>\n",
       "      <td>30.0000</td>\n",
       "      <td>C</td>\n",
       "      <td>First</td>\n",
       "      <td>man</td>\n",
       "      <td>True</td>\n",
       "      <td>C</td>\n",
       "      <td>Cherbourg</td>\n",
       "      <td>yes</td>\n",
       "      <td>True</td>\n",
       "    </tr>\n",
       "    <tr>\n",
       "      <th>890</th>\n",
       "      <td>0</td>\n",
       "      <td>3</td>\n",
       "      <td>male</td>\n",
       "      <td>32.0</td>\n",
       "      <td>0</td>\n",
       "      <td>0</td>\n",
       "      <td>7.7500</td>\n",
       "      <td>Q</td>\n",
       "      <td>Third</td>\n",
       "      <td>man</td>\n",
       "      <td>True</td>\n",
       "      <td>NaN</td>\n",
       "      <td>Queenstown</td>\n",
       "      <td>no</td>\n",
       "      <td>True</td>\n",
       "    </tr>\n",
       "  </tbody>\n",
       "</table>\n",
       "<p>891 rows × 15 columns</p>\n",
       "</div>"
      ],
      "text/plain": [
       "     survived  pclass     sex   age  sibsp  parch     fare embarked   class  \\\n",
       "0           0       3    male  22.0      1      0   7.2500        S   Third   \n",
       "1           1       1  female  38.0      1      0  71.2833        C   First   \n",
       "2           1       3  female  26.0      0      0   7.9250        S   Third   \n",
       "3           1       1  female  35.0      1      0  53.1000        S   First   \n",
       "4           0       3    male  35.0      0      0   8.0500        S   Third   \n",
       "..        ...     ...     ...   ...    ...    ...      ...      ...     ...   \n",
       "886         0       2    male  27.0      0      0  13.0000        S  Second   \n",
       "887         1       1  female  19.0      0      0  30.0000        S   First   \n",
       "888         0       3  female   NaN      1      2  23.4500        S   Third   \n",
       "889         1       1    male  26.0      0      0  30.0000        C   First   \n",
       "890         0       3    male  32.0      0      0   7.7500        Q   Third   \n",
       "\n",
       "       who  adult_male deck  embark_town alive  alone  \n",
       "0      man        True  NaN  Southampton    no  False  \n",
       "1    woman       False    C    Cherbourg   yes  False  \n",
       "2    woman       False  NaN  Southampton   yes   True  \n",
       "3    woman       False    C  Southampton   yes  False  \n",
       "4      man        True  NaN  Southampton    no   True  \n",
       "..     ...         ...  ...          ...   ...    ...  \n",
       "886    man        True  NaN  Southampton    no   True  \n",
       "887  woman       False    B  Southampton   yes   True  \n",
       "888  woman       False  NaN  Southampton    no  False  \n",
       "889    man        True    C    Cherbourg   yes   True  \n",
       "890    man        True  NaN   Queenstown    no   True  \n",
       "\n",
       "[891 rows x 15 columns]"
      ]
     },
     "execution_count": 25,
     "metadata": {},
     "output_type": "execute_result"
    }
   ],
   "source": [
    "df = sns.load_dataset('titanic')\n",
    "\n",
    "df"
   ]
  },
  {
   "cell_type": "code",
   "execution_count": 26,
   "id": "1762b8de-7762-4d6e-a7e6-dcfcb44a69d8",
   "metadata": {},
   "outputs": [
    {
     "name": "stdout",
     "output_type": "stream",
     "text": [
      "<class 'pandas.core.frame.DataFrame'>\n",
      "Int64Index: 182 entries, 1 to 889\n",
      "Data columns (total 15 columns):\n",
      " #   Column       Non-Null Count  Dtype   \n",
      "---  ------       --------------  -----   \n",
      " 0   survived     182 non-null    int64   \n",
      " 1   pclass       182 non-null    int64   \n",
      " 2   sex          182 non-null    object  \n",
      " 3   age          182 non-null    float64 \n",
      " 4   sibsp        182 non-null    int64   \n",
      " 5   parch        182 non-null    int64   \n",
      " 6   fare         182 non-null    float64 \n",
      " 7   embarked     182 non-null    object  \n",
      " 8   class        182 non-null    category\n",
      " 9   who          182 non-null    object  \n",
      " 10  adult_male   182 non-null    bool    \n",
      " 11  deck         182 non-null    category\n",
      " 12  embark_town  182 non-null    object  \n",
      " 13  alive        182 non-null    object  \n",
      " 14  alone        182 non-null    bool    \n",
      "dtypes: bool(2), category(2), float64(2), int64(4), object(5)\n",
      "memory usage: 18.2+ KB\n"
     ]
    }
   ],
   "source": [
    "# 欠損値除去\n",
    "df.dropna(inplace=True)\n",
    "df.info()"
   ]
  },
  {
   "cell_type": "code",
   "execution_count": 82,
   "id": "817160a7-27f3-4a38-bb0b-c0f582934d99",
   "metadata": {},
   "outputs": [],
   "source": [
    "# X, yを作成\n",
    "X = df.loc[:, (df.columns != 'survived') & (df.columns!='alive')]\n",
    "\n",
    "oe = OrdinalEncoder()\n",
    "oe.set_output(transform='pandas')\n",
    "X_encode = oe.fit_transform(X)\n",
    "\n",
    "y = df['survived'].values\n",
    "\n",
    "\n",
    "X_train, X_test, y_train, y_test = train_test_split(X_encode, y, test_size=0.3, random_state=0)"
   ]
  },
  {
   "cell_type": "code",
   "execution_count": 91,
   "id": "0b7cbbdc-1bd1-4a80-8d97-b6d2f8493a39",
   "metadata": {},
   "outputs": [],
   "source": [
    "\n",
    "class GradientBoostingClassifier:\n",
    "    def __init__(self, learning_rate=0.03, n_estimators=100, random_state=0, max_depth=1):\n",
    "        self.learning_rate = learning_rate\n",
    "        self.n_estimators = n_estimators\n",
    "        self.random_state = random_state\n",
    "        self.max_depth = max_depth\n",
    "        self.estimators = []\n",
    "        \n",
    "    def fit(self, X, y):\n",
    "        \n",
    "        # Initial model: mean of log ozz\n",
    "        self.F0 = np.log(y.mean() / (1 - y.mean()))\n",
    "        F0 = np.full(len(y), self.F0)\n",
    "        Fb = F0\n",
    "        \n",
    "        for _ in range(self.n_estimators):\n",
    "            p = 1 / (1 + np.exp(-Fb))\n",
    "            residuals = y - p\n",
    "            \n",
    "            # 分類でも内部で使うのは回帰\n",
    "            tree = DecisionTreeRegressor(max_depth=self.max_depth, random_state=self.random_state)\n",
    "            tree.fit(X, residuals)\n",
    "            \n",
    "            # 各xが落ちる葉の場所を取得\n",
    "            # print(tree.apply(X))\n",
    "            X_leafs = tree.apply(X)\n",
    "            leaf_ids = np.unique(X_leafs)\n",
    "            # print(leaf_ids)\n",
    "            # plot_tree(tree)\n",
    "            for leaf_id in leaf_ids:\n",
    "                fltr = X_leafs == leaf_id\n",
    "                # 決定木の値\n",
    "                num = residuals[fltr].sum() # 分子\n",
    "                den = (p[fltr] * (1 - p[fltr])).sum() # 分母\n",
    "                \n",
    "                # 決定木の予測値は、決定木の葉の重みではなく、以下の計算式の値とする。\n",
    "                # 弱学習器の出力を上書き\n",
    "                tree_pred_proba = num / den\n",
    "                tree.tree_.value[leaf_id, 0, 0] = tree_pred_proba\n",
    "                Fb[fltr] += self.learning_rate * tree_pred_proba\n",
    "                # print(\"######\")\n",
    "                # print(tree.tree_.value) \n",
    "                #これを確認すると、[num_nodes, num_outputs, num_classes]の要素で並んでいることが分かる・\n",
    "                #決定木で回帰を行っているので、num_outputs, num_classesはそれぞれ0\n",
    "            self.estimators.append(tree)\n",
    "            \n",
    "    def predict_proba(self,X):\n",
    "        \n",
    "        Fb = np.full(X.shape[0] ,self.F0)\n",
    "        \n",
    "        \n",
    "        for estimator in self.estimators:\n",
    "            Fb += self.learning_rate * estimator.predict(X)\n",
    "        \n",
    "        # シグモイド関数に入れて確率の形式にする\n",
    "        return 1 / (1 + np.exp(-Fb))"
   ]
  },
  {
   "cell_type": "code",
   "execution_count": 92,
   "id": "97c39349-7d94-4f35-b783-452df6f21440",
   "metadata": {},
   "outputs": [
    {
     "data": {
      "text/plain": [
       "array([3, 3, 3, 3, 3, 3, 3, 3, 3, 3])"
      ]
     },
     "execution_count": 92,
     "metadata": {},
     "output_type": "execute_result"
    }
   ],
   "source": [
    "# よく使うnpメソッド\n",
    "np.full(10,3)"
   ]
  },
  {
   "cell_type": "code",
   "execution_count": 93,
   "id": "2c6d6f5c-0725-4a19-8236-d47e24d2a641",
   "metadata": {},
   "outputs": [],
   "source": [
    "my_gbc = GradientBoostingClassifier()\n",
    "my_gbc.fit(X_train ,y_train)"
   ]
  },
  {
   "cell_type": "code",
   "execution_count": 94,
   "id": "122718d4-9e8b-43cf-ac74-f04ffb35a021",
   "metadata": {},
   "outputs": [
    {
     "data": {
      "text/plain": [
       "array([0.5514342 , 0.4329777 , 0.80125347, 0.80125347, 0.5514342 ,\n",
       "       0.25797762, 0.5514342 , 0.83715418, 0.88099514, 0.88099514,\n",
       "       0.5514342 , 0.82137752, 0.82137752, 0.88099514, 0.5514342 ,\n",
       "       0.5514342 , 0.5514342 , 0.82137752, 0.88099514, 0.40100637,\n",
       "       0.88099514, 0.78760146, 0.88099514, 0.88099514, 0.80125347,\n",
       "       0.5514342 , 0.40100637, 0.80125347, 0.4329777 , 0.4329777 ,\n",
       "       0.4329777 , 0.88099514, 0.88099514, 0.88099514, 0.82137752,\n",
       "       0.88099514, 0.82137752, 0.88099514, 0.40100637, 0.5514342 ,\n",
       "       0.4329777 , 0.82137752, 0.5514342 , 0.78760146, 0.40100637,\n",
       "       0.88099514, 0.88099514, 0.5514342 , 0.5514342 , 0.5514342 ,\n",
       "       0.5514342 , 0.82137752, 0.5514342 , 0.88099514, 0.88099514])"
      ]
     },
     "execution_count": 94,
     "metadata": {},
     "output_type": "execute_result"
    }
   ],
   "source": [
    "my_gbc.predict_proba(X_test)"
   ]
  },
  {
   "cell_type": "markdown",
   "id": "bf28694a-e8a1-4e95-aa80-c11862aecc29",
   "metadata": {},
   "source": [
    "## sklearnのクラスを使う"
   ]
  },
  {
   "cell_type": "code",
   "execution_count": 102,
   "id": "e09468b7-3c3c-473f-9771-aba96f869e01",
   "metadata": {},
   "outputs": [],
   "source": [
    "from sklearn.ensemble import GradientBoostingClassifier\n",
    "\n",
    "gbc = GradientBoostingClassifier(learning_rate=0.03, n_estimators=100, random_state=0, max_depth=1)\n",
    "gbc.fit(X_train, y_train)\n",
    "\n",
    "y_pred = gbc.predict_proba(X_test)[:, 1]"
   ]
  },
  {
   "cell_type": "code",
   "execution_count": 103,
   "id": "4888f164-e697-4225-96df-5f12eafb6064",
   "metadata": {},
   "outputs": [
    {
     "data": {
      "text/plain": [
       "array([0.5514342 , 0.4329777 , 0.80125347, 0.80125347, 0.5514342 ,\n",
       "       0.25797762, 0.5514342 , 0.83715418, 0.88099514, 0.88099514,\n",
       "       0.5514342 , 0.82137752, 0.82137752, 0.88099514, 0.5514342 ,\n",
       "       0.5514342 , 0.5514342 , 0.82137752, 0.88099514, 0.40100637,\n",
       "       0.88099514, 0.78760146, 0.88099514, 0.88099514, 0.80125347,\n",
       "       0.5514342 , 0.40100637, 0.80125347, 0.4329777 , 0.4329777 ,\n",
       "       0.4329777 , 0.88099514, 0.88099514, 0.88099514, 0.82137752,\n",
       "       0.88099514, 0.82137752, 0.88099514, 0.40100637, 0.5514342 ,\n",
       "       0.4329777 , 0.82137752, 0.5514342 , 0.78760146, 0.40100637,\n",
       "       0.88099514, 0.88099514, 0.5514342 , 0.5514342 , 0.5514342 ,\n",
       "       0.5514342 , 0.82137752, 0.5514342 , 0.88099514, 0.88099514])"
      ]
     },
     "execution_count": 103,
     "metadata": {},
     "output_type": "execute_result"
    }
   ],
   "source": [
    "y_pred"
   ]
  },
  {
   "cell_type": "code",
   "execution_count": 105,
   "id": "1c3e86b6-1191-4c80-8f2b-06a80eab6c62",
   "metadata": {},
   "outputs": [
    {
     "name": "stdout",
     "output_type": "stream",
     "text": [
      "grad boost AUC: 0.9407051282051282\n"
     ]
    }
   ],
   "source": [
    "from sklearn.metrics import roc_auc_score\n",
    "print(f\"grad boost AUC: {roc_auc_score(y_test, y_pred)}\")"
   ]
  },
  {
   "cell_type": "code",
   "execution_count": 110,
   "id": "acb2c9ad-ca1f-4048-9722-64ab366dd2ba",
   "metadata": {},
   "outputs": [],
   "source": [
    "results = []\n",
    "for t in gbc.estimators_:\n",
    "    result = 0.03 * t[0].predict([X_test.iloc[0]])\n",
    "    results.append(result)"
   ]
  },
  {
   "cell_type": "code",
   "execution_count": 111,
   "id": "a6fb0232-0259-4b27-958f-d9e7bda0a024",
   "metadata": {},
   "outputs": [
    {
     "data": {
      "text/plain": [
       "[<matplotlib.lines.Line2D at 0x7fae6358fc10>]"
      ]
     },
     "execution_count": 111,
     "metadata": {},
     "output_type": "execute_result"
    },
    {
     "data": {
      "image/png": "[encoded data removed]",
      "text/plain": [
       "<Figure size 640x480 with 1 Axes>"
      ]
     },
     "metadata": {},
     "output_type": "display_data"
    }
   ],
   "source": [
    "import matplotlib.pyplot as plt\n",
    "plt.plot(results)"
   ]
  },
  {
   "cell_type": "code",
   "execution_count": 113,
   "id": "769bdd50-a34b-4fd3-82c6-227e054c2aca",
   "metadata": {},
   "outputs": [
    {
     "data": {
      "text/plain": [
       "0.2064671274951857"
      ]
     },
     "execution_count": 113,
     "metadata": {},
     "output_type": "execute_result"
    }
   ],
   "source": [
    "F0 = np.log(y_train.mean() / (1 - y_train.mean()))\n",
    "Fb = F0 + np.cumsum(results)[-1]\n",
    "Fb"
   ]
  },
  {
   "cell_type": "code",
   "execution_count": 115,
   "id": "97336983-e99f-42f4-8ee1-d8edb87fa111",
   "metadata": {},
   "outputs": [
    {
     "data": {
      "text/plain": [
       "0.551434197251246"
      ]
     },
     "execution_count": 115,
     "metadata": {},
     "output_type": "execute_result"
    }
   ],
   "source": [
    "predict = 1 / (1 + np.exp(-Fb))\n",
    "predict"
   ]
  },
  {
   "cell_type": "code",
   "execution_count": 117,
   "id": "9e6b59c8-797e-476d-ae75-ed890371cc8a",
   "metadata": {},
   "outputs": [
    {
     "data": {
      "text/plain": [
       "[<matplotlib.lines.Line2D at 0x7fae62a11970>]"
      ]
     },
     "execution_count": 117,
     "metadata": {},
     "output_type": "execute_result"
    },
    {
     "data": {
      "image/png": "[encoded data removed]",
      "text/plain": [
       "<Figure size 640x480 with 1 Axes>"
      ]
     },
     "metadata": {},
     "output_type": "display_data"
    }
   ],
   "source": [
    "plt.plot(1 / (1 + np.exp(-(F0 + np.cumsum(results)))))"
   ]
  },
  {
   "cell_type": "code",
   "execution_count": null,
   "id": "8d8f424e-695e-421b-9aef-49136b72a296",
   "metadata": {},
   "outputs": [],
   "source": []
  }
 ],
 "metadata": {
  "kernelspec": {
   "display_name": "Python 3 (ipykernel)",
   "language": "python",
   "name": "python3"
  },
  "language_info": {
   "codemirror_mode": {
    "name": "ipython",
    "version": 3
   },
   "file_extension": ".py",
   "mimetype": "text/x-python",
   "name": "python",
   "nbconvert_exporter": "python",
   "pygments_lexer": "ipython3",
   "version": "3.9.13"
  }
 },
 "nbformat": 4,
 "nbformat_minor": 5
}
