{
 "cells": [
  {
   "cell_type": "markdown",
   "id": "c5d7b7bb-b65f-45cc-9d4e-74f92f1097a1",
   "metadata": {},
   "source": [
    "# 勾配ブースティング（回帰）\n",
    "## スクラッチ実装"
   ]
  },
  {
   "cell_type": "code",
   "execution_count": 68,
   "id": "9ed54788-4c44-44f3-aa69-bc0bfb2dfdf6",
   "metadata": {},
   "outputs": [
    {
     "data": {
      "text/html": [
       "<div>\n",
       "<style scoped>\n",
       "    .dataframe tbody tr th:only-of-type {\n",
       "        vertical-align: middle;\n",
       "    }\n",
       "\n",
       "    .dataframe tbody tr th {\n",
       "        vertical-align: top;\n",
       "    }\n",
       "\n",
       "    .dataframe thead th {\n",
       "        text-align: right;\n",
       "    }\n",
       "</style>\n",
       "<table border=\"1\" class=\"dataframe\">\n",
       "  <thead>\n",
       "    <tr style=\"text-align: right;\">\n",
       "      <th></th>\n",
       "      <th>mpg</th>\n",
       "      <th>cylinders</th>\n",
       "      <th>displacement</th>\n",
       "      <th>horsepower</th>\n",
       "      <th>weight</th>\n",
       "      <th>acceleration</th>\n",
       "      <th>model_year</th>\n",
       "      <th>origin</th>\n",
       "      <th>name</th>\n",
       "    </tr>\n",
       "  </thead>\n",
       "  <tbody>\n",
       "    <tr>\n",
       "      <th>0</th>\n",
       "      <td>18.0</td>\n",
       "      <td>8</td>\n",
       "      <td>307.0</td>\n",
       "      <td>130.0</td>\n",
       "      <td>3504</td>\n",
       "      <td>12.0</td>\n",
       "      <td>70</td>\n",
       "      <td>usa</td>\n",
       "      <td>chevrolet chevelle malibu</td>\n",
       "    </tr>\n",
       "    <tr>\n",
       "      <th>1</th>\n",
       "      <td>15.0</td>\n",
       "      <td>8</td>\n",
       "      <td>350.0</td>\n",
       "      <td>165.0</td>\n",
       "      <td>3693</td>\n",
       "      <td>11.5</td>\n",
       "      <td>70</td>\n",
       "      <td>usa</td>\n",
       "      <td>buick skylark 320</td>\n",
       "    </tr>\n",
       "    <tr>\n",
       "      <th>2</th>\n",
       "      <td>18.0</td>\n",
       "      <td>8</td>\n",
       "      <td>318.0</td>\n",
       "      <td>150.0</td>\n",
       "      <td>3436</td>\n",
       "      <td>11.0</td>\n",
       "      <td>70</td>\n",
       "      <td>usa</td>\n",
       "      <td>plymouth satellite</td>\n",
       "    </tr>\n",
       "    <tr>\n",
       "      <th>3</th>\n",
       "      <td>16.0</td>\n",
       "      <td>8</td>\n",
       "      <td>304.0</td>\n",
       "      <td>150.0</td>\n",
       "      <td>3433</td>\n",
       "      <td>12.0</td>\n",
       "      <td>70</td>\n",
       "      <td>usa</td>\n",
       "      <td>amc rebel sst</td>\n",
       "    </tr>\n",
       "    <tr>\n",
       "      <th>4</th>\n",
       "      <td>17.0</td>\n",
       "      <td>8</td>\n",
       "      <td>302.0</td>\n",
       "      <td>140.0</td>\n",
       "      <td>3449</td>\n",
       "      <td>10.5</td>\n",
       "      <td>70</td>\n",
       "      <td>usa</td>\n",
       "      <td>ford torino</td>\n",
       "    </tr>\n",
       "    <tr>\n",
       "      <th>...</th>\n",
       "      <td>...</td>\n",
       "      <td>...</td>\n",
       "      <td>...</td>\n",
       "      <td>...</td>\n",
       "      <td>...</td>\n",
       "      <td>...</td>\n",
       "      <td>...</td>\n",
       "      <td>...</td>\n",
       "      <td>...</td>\n",
       "    </tr>\n",
       "    <tr>\n",
       "      <th>393</th>\n",
       "      <td>27.0</td>\n",
       "      <td>4</td>\n",
       "      <td>140.0</td>\n",
       "      <td>86.0</td>\n",
       "      <td>2790</td>\n",
       "      <td>15.6</td>\n",
       "      <td>82</td>\n",
       "      <td>usa</td>\n",
       "      <td>ford mustang gl</td>\n",
       "    </tr>\n",
       "    <tr>\n",
       "      <th>394</th>\n",
       "      <td>44.0</td>\n",
       "      <td>4</td>\n",
       "      <td>97.0</td>\n",
       "      <td>52.0</td>\n",
       "      <td>2130</td>\n",
       "      <td>24.6</td>\n",
       "      <td>82</td>\n",
       "      <td>europe</td>\n",
       "      <td>vw pickup</td>\n",
       "    </tr>\n",
       "    <tr>\n",
       "      <th>395</th>\n",
       "      <td>32.0</td>\n",
       "      <td>4</td>\n",
       "      <td>135.0</td>\n",
       "      <td>84.0</td>\n",
       "      <td>2295</td>\n",
       "      <td>11.6</td>\n",
       "      <td>82</td>\n",
       "      <td>usa</td>\n",
       "      <td>dodge rampage</td>\n",
       "    </tr>\n",
       "    <tr>\n",
       "      <th>396</th>\n",
       "      <td>28.0</td>\n",
       "      <td>4</td>\n",
       "      <td>120.0</td>\n",
       "      <td>79.0</td>\n",
       "      <td>2625</td>\n",
       "      <td>18.6</td>\n",
       "      <td>82</td>\n",
       "      <td>usa</td>\n",
       "      <td>ford ranger</td>\n",
       "    </tr>\n",
       "    <tr>\n",
       "      <th>397</th>\n",
       "      <td>31.0</td>\n",
       "      <td>4</td>\n",
       "      <td>119.0</td>\n",
       "      <td>82.0</td>\n",
       "      <td>2720</td>\n",
       "      <td>19.4</td>\n",
       "      <td>82</td>\n",
       "      <td>usa</td>\n",
       "      <td>chevy s-10</td>\n",
       "    </tr>\n",
       "  </tbody>\n",
       "</table>\n",
       "<p>398 rows × 9 columns</p>\n",
       "</div>"
      ],
      "text/plain": [
       "      mpg  cylinders  displacement  horsepower  weight  acceleration  \\\n",
       "0    18.0          8         307.0       130.0    3504          12.0   \n",
       "1    15.0          8         350.0       165.0    3693          11.5   \n",
       "2    18.0          8         318.0       150.0    3436          11.0   \n",
       "3    16.0          8         304.0       150.0    3433          12.0   \n",
       "4    17.0          8         302.0       140.0    3449          10.5   \n",
       "..    ...        ...           ...         ...     ...           ...   \n",
       "393  27.0          4         140.0        86.0    2790          15.6   \n",
       "394  44.0          4          97.0        52.0    2130          24.6   \n",
       "395  32.0          4         135.0        84.0    2295          11.6   \n",
       "396  28.0          4         120.0        79.0    2625          18.6   \n",
       "397  31.0          4         119.0        82.0    2720          19.4   \n",
       "\n",
       "     model_year  origin                       name  \n",
       "0            70     usa  chevrolet chevelle malibu  \n",
       "1            70     usa          buick skylark 320  \n",
       "2            70     usa         plymouth satellite  \n",
       "3            70     usa              amc rebel sst  \n",
       "4            70     usa                ford torino  \n",
       "..          ...     ...                        ...  \n",
       "393          82     usa            ford mustang gl  \n",
       "394          82  europe                  vw pickup  \n",
       "395          82     usa              dodge rampage  \n",
       "396          82     usa                ford ranger  \n",
       "397          82     usa                 chevy s-10  \n",
       "\n",
       "[398 rows x 9 columns]"
      ]
     },
     "execution_count": 68,
     "metadata": {},
     "output_type": "execute_result"
    }
   ],
   "source": [
    "import numpy as np\n",
    "import pandas as pd\n",
    "import seaborn as sns\n",
    "from sklearn.model_selection import train_test_split\n",
    "from sklearn.tree import DecisionTreeRegressor\n",
    "from sklearn.preprocessing import OrdinalEncoder\n",
    "from sklearn.tree import DecisionTreeRegressor\n",
    "df = sns.load_dataset('mpg')\n",
    "\n",
    "df"
   ]
  },
  {
   "cell_type": "code",
   "execution_count": 69,
   "id": "802b46f9-b25b-4ae1-a926-44e3759987ab",
   "metadata": {},
   "outputs": [
    {
     "name": "stdout",
     "output_type": "stream",
     "text": [
      "<class 'pandas.core.frame.DataFrame'>\n",
      "Int64Index: 392 entries, 0 to 397\n",
      "Data columns (total 9 columns):\n",
      " #   Column        Non-Null Count  Dtype  \n",
      "---  ------        --------------  -----  \n",
      " 0   mpg           392 non-null    float64\n",
      " 1   cylinders     392 non-null    int64  \n",
      " 2   displacement  392 non-null    float64\n",
      " 3   horsepower    392 non-null    float64\n",
      " 4   weight        392 non-null    int64  \n",
      " 5   acceleration  392 non-null    float64\n",
      " 6   model_year    392 non-null    int64  \n",
      " 7   origin        392 non-null    object \n",
      " 8   name          392 non-null    object \n",
      "dtypes: float64(4), int64(3), object(2)\n",
      "memory usage: 30.6+ KB\n"
     ]
    }
   ],
   "source": [
    "# 欠損値除去\n",
    "df.dropna(inplace=True)\n",
    "df.info()"
   ]
  },
  {
   "cell_type": "code",
   "execution_count": 70,
   "id": "62d162c7-8d1f-4226-8350-76d0d1617993",
   "metadata": {},
   "outputs": [],
   "source": [
    "# X, yを作成\n",
    "X = df['horsepower'].values.reshape(-1,1)\n",
    "y = df['mpg'].values\n"
   ]
  },
  {
   "cell_type": "code",
   "execution_count": 71,
   "id": "faecb7b0-f1fe-4626-8a17-e84e7e51e7c4",
   "metadata": {},
   "outputs": [
    {
     "data": {
      "text/plain": [
       "<AxesSubplot:xlabel='horsepower', ylabel='mpg'>"
      ]
     },
     "execution_count": 71,
     "metadata": {},
     "output_type": "execute_result"
    },
    {
     "data": {
      "image/png": "[encoded data removed]",
      "text/plain": [
       "<Figure size 640x480 with 1 Axes>"
      ]
     },
     "metadata": {},
     "output_type": "display_data"
    }
   ],
   "source": [
    "sns.scatterplot(x=df['horsepower'], y = df['mpg'])"
   ]
  },
  {
   "cell_type": "code",
   "execution_count": 95,
   "id": "67bbf34c-c727-4ea6-b549-8ae9fb8f851f",
   "metadata": {},
   "outputs": [],
   "source": [
    "\n",
    "class GradientBoostingRegressor:\n",
    "    def __init__(self, learning_rate=0.03, n_estimators=100, random_state=0, max_depth=1):\n",
    "        self.learning_rate = learning_rate\n",
    "        self.n_estimators = n_estimators\n",
    "        self.random_state = random_state\n",
    "        self.max_depth = max_depth\n",
    "        self.estimators = []\n",
    "        \n",
    "    def fit(self, X, y):\n",
    "        \n",
    "        # Initial model: mean of y\n",
    "        self.F0 = y.mean()\n",
    "        Fb = self.F0\n",
    "        \n",
    "        for _ in range(self.n_estimators):\n",
    "            residuals = y - Fb\n",
    "            tree = DecisionTreeRegressor(max_depth=self.max_depth, random_state=self.random_state)\n",
    "            tree.fit(X, residuals)\n",
    "            \n",
    "            weight = tree.predict(X)\n",
    "            \n",
    "            Fb += self.learning_rate * weight\n",
    "            \n",
    "            self.estimators.append(tree)\n",
    "            \n",
    "    def predict(self,X):\n",
    "        \n",
    "        Fb = self.F0\n",
    "        \n",
    "        for estimator in self.estimators:\n",
    "            Fb += self.learning_rate * estimator.predict(X)\n",
    "        \n",
    "        return Fb"
   ]
  },
  {
   "cell_type": "code",
   "execution_count": 96,
   "id": "d5b4d509-7e0d-4d3a-b8bc-257b40ed4325",
   "metadata": {},
   "outputs": [],
   "source": [
    "gbr = GradientBoostingRegressor()"
   ]
  },
  {
   "cell_type": "code",
   "execution_count": 97,
   "id": "0322e222-96e5-4f1d-9dee-b9105b703304",
   "metadata": {},
   "outputs": [
    {
     "data": {
      "text/plain": [
       "array([17.95434839, 15.74535562, 15.74535562, 15.74535562, 16.96376992,\n",
       "       15.74535562, 15.74535562, 15.74535562, 15.74535562, 15.74535562,\n",
       "       15.74535562, 15.74535562, 15.74535562, 15.74535562, 23.01512881,\n",
       "       23.01512881, 22.21547999, 24.54754893, 24.54754893, 31.96655862,\n",
       "       24.54754893, 24.54754893, 23.01512881, 20.76151767, 24.54754893,\n",
       "       15.74535562, 15.74535562, 15.74535562, 15.74535562, 24.54754893,\n",
       "       24.54754893, 23.01512881, 20.76151767, 20.76151767, 20.76151767,\n",
       "       24.54754893, 20.76151767, 15.74535562, 15.74535562, 15.74535562,\n",
       "       15.74535562, 15.74535562, 15.74535562, 15.74535562, 20.76151767,\n",
       "       27.71424635, 20.76151767, 24.54754893, 24.54754893, 24.54754893,\n",
       "       31.61939691, 27.71424635, 31.96655862, 31.61939691, 31.96655862,\n",
       "       31.61939691, 23.01512881, 27.71424635, 31.96655862, 24.54754893,\n",
       "       24.54754893, 15.74535562, 15.74535562, 15.74535562, 15.74535562,\n",
       "       15.74535562, 15.74535562, 15.74535562, 15.74535562, 15.74535562,\n",
       "       22.21547999, 15.74535562, 17.95434839, 16.96376992, 15.74535562,\n",
       "       20.76151767, 27.71424635, 24.54754893, 31.61939691, 24.54754893,\n",
       "       24.54754893, 22.21547999, 27.71424635, 24.54754893, 15.74535562,\n",
       "       15.74535562, 16.12667182, 17.78621069, 15.74535562, 15.74535562,\n",
       "       15.74535562, 15.74535562, 15.74535562, 15.74535562, 15.74535562,\n",
       "       15.74535562, 20.76151767, 20.76151767, 20.76151767, 24.54754893,\n",
       "       23.01512881, 31.96655862, 15.74535562, 15.74535562, 15.74535562,\n",
       "       15.74535562, 20.76151767, 24.54754893, 27.71424635, 23.01512881,\n",
       "       24.54754893, 24.54754893, 20.76151767, 24.54754893, 16.12667182,\n",
       "       15.74535562, 31.96655862, 27.71424635, 24.54754893, 20.76151767,\n",
       "       15.74535562, 20.76151767, 19.62901556, 15.74535562, 23.01512881,\n",
       "       20.76151767, 20.76151767, 31.96655862, 27.71424635, 31.96655862,\n",
       "       27.71424635, 20.76151767, 20.76151767, 20.76151767, 16.96376992,\n",
       "       15.74535562, 15.74535562, 16.96376992, 15.74535562, 27.71424635,\n",
       "       31.96655862, 27.71424635, 31.96655862, 31.96655862, 27.71424635,\n",
       "       27.71424635, 27.71424635, 22.21547999, 24.54754893, 31.96655862,\n",
       "       23.01512881, 20.76151767, 27.71424635, 27.71424635, 15.74535562,\n",
       "       16.12667182, 15.74535562, 15.74535562, 20.76151767, 20.76151767,\n",
       "       20.76151767, 23.01512881, 20.76151767, 20.76151767, 17.95434839,\n",
       "       27.71424635, 27.71424635, 20.76151767, 27.71424635, 23.01512881,\n",
       "       28.33261559, 22.21547999, 22.21547999, 31.61939691, 24.54754893,\n",
       "       23.01512881, 24.54754893, 20.76151767, 20.76151767, 31.96655862,\n",
       "       24.54754893, 27.71424635, 24.54754893, 27.71424635, 27.71424635,\n",
       "       16.96376992, 15.74535562, 19.62901556, 15.74535562, 20.76151767,\n",
       "       20.76151767, 27.71424635, 24.54754893, 31.96655862, 31.96655862,\n",
       "       31.61939691, 31.96655862, 20.76151767, 27.71424635, 20.76151767,\n",
       "       23.01512881, 28.33261559, 31.61939691, 27.71424635, 27.71424635,\n",
       "       20.76151767, 15.74535562, 24.54754893, 20.76151767, 19.62901556,\n",
       "       15.74535562, 16.12667182, 17.95434839, 15.74535562, 31.61939691,\n",
       "       27.71424635, 31.96655862, 23.01512881, 31.61939691, 16.12667182,\n",
       "       20.76151767, 16.12667182, 17.95434839, 20.76151767, 20.76151767,\n",
       "       20.76151767, 20.76151767, 15.74535562, 15.74535562, 15.74535562,\n",
       "       15.74535562, 27.71424635, 24.54754893, 27.71424635, 24.54754893,\n",
       "       31.96655862, 27.71424635, 31.96655862, 27.71424635, 22.21547999,\n",
       "       20.76151767, 20.76151767, 31.96655862, 31.96655862, 31.96655862,\n",
       "       31.61939691, 31.96655862, 20.76151767, 16.96376992, 17.78621069,\n",
       "       20.76151767, 23.01512881, 24.54754893, 24.54754893, 20.76151767,\n",
       "       24.54754893, 20.76151767, 24.54754893, 20.76151767, 19.62901556,\n",
       "       16.12667182, 15.74535562, 17.78621069, 16.96376992, 31.61939691,\n",
       "       23.01512881, 22.21547999, 27.71424635, 23.01512881, 20.76151767,\n",
       "       24.54754893, 22.21547999, 20.76151767, 19.62901556, 20.76151767,\n",
       "       17.78621069, 28.33261559, 31.61939691, 20.76151767, 24.54754893,\n",
       "       24.54754893, 24.54754893, 20.76151767, 17.95434839, 17.95434839,\n",
       "       17.78621069, 17.78621069, 15.74535562, 16.12667182, 19.62901556,\n",
       "       15.74535562, 28.33261559, 31.96655862, 27.71424635, 27.71424635,\n",
       "       27.71424635, 19.62901556, 28.33261559, 24.54754893, 31.61939691,\n",
       "       31.61939691, 31.96655862, 31.61939691, 24.54754893, 20.76151767,\n",
       "       20.76151767, 24.54754893, 27.71424635, 31.96655862, 31.61939691,\n",
       "       31.96655862, 24.54754893, 24.54754893, 24.54754893, 24.54754893,\n",
       "       27.71424635, 24.54754893, 27.71424635, 24.54754893, 27.71424635,\n",
       "       31.96655862, 20.76151767, 31.96655862, 31.96655862, 31.96655862,\n",
       "       31.96655862, 31.96655862, 31.96655862, 31.96655862, 31.96655862,\n",
       "       17.95434839, 20.76151767, 24.54754893, 27.71424635, 27.71424635,\n",
       "       27.71424635, 24.54754893, 20.76151767, 27.71424635, 31.96655862,\n",
       "       31.96655862, 31.96655862, 31.96655862, 31.96655862, 31.96655862,\n",
       "       31.61939691, 31.96655862, 31.96655862, 31.96655862, 27.71424635,\n",
       "       27.71424635, 27.71424635, 20.76151767, 27.71424635, 27.71424635,\n",
       "       27.71424635, 20.76151767, 19.62901556, 20.76151767, 20.76151767,\n",
       "       24.54754893, 24.54754893, 24.54754893, 24.54754893, 24.54754893,\n",
       "       24.54754893, 27.71424635, 24.54754893, 24.54754893, 27.71424635,\n",
       "       31.61939691, 31.61939691, 31.96655862, 31.61939691, 24.54754893,\n",
       "       27.71424635, 31.61939691, 31.96655862, 31.96655862, 31.96655862,\n",
       "       20.76151767, 24.54754893, 24.54754893, 20.76151767, 23.01512881,\n",
       "       27.71424635, 24.54754893, 24.54754893, 31.96655862, 27.71424635,\n",
       "       27.71424635, 27.71424635])"
      ]
     },
     "execution_count": 97,
     "metadata": {},
     "output_type": "execute_result"
    }
   ],
   "source": [
    "gbr.fit(X,y)\n",
    "gbr.predict(X) #スクラッチのため、訓練・テスト分けず"
   ]
  },
  {
   "cell_type": "code",
   "execution_count": 75,
   "id": "6747ccad-e438-41ce-9e66-b162e93861f9",
   "metadata": {},
   "outputs": [
    {
     "data": {
      "text/plain": [
       "100"
      ]
     },
     "execution_count": 75,
     "metadata": {},
     "output_type": "execute_result"
    }
   ],
   "source": [
    "len(gbr.estimators)"
   ]
  },
  {
   "cell_type": "markdown",
   "id": "f2f235ba-e235-4be3-b3fa-87d14ba6118c",
   "metadata": {},
   "source": [
    "## sklearnのクラスを用いて勾配ブースティングを実装\n"
   ]
  },
  {
   "cell_type": "code",
   "execution_count": 76,
   "id": "5d452396-8813-473b-a646-b64bf2007f62",
   "metadata": {},
   "outputs": [],
   "source": [
    "from sklearn.ensemble import GradientBoostingRegressor"
   ]
  },
  {
   "cell_type": "code",
   "execution_count": 77,
   "id": "3c3e945f-25d8-469d-ba82-a76a5f1ca96c",
   "metadata": {},
   "outputs": [
    {
     "data": {
      "text/plain": [
       "array([17.95434839, 15.74535562, 15.74535562, 15.74535562, 16.96376992,\n",
       "       15.74535562, 15.74535562, 15.74535562, 15.74535562, 15.74535562,\n",
       "       15.74535562, 15.74535562, 15.74535562, 15.74535562, 23.01512881,\n",
       "       23.01512881, 22.21547999, 24.54754893, 24.54754893, 31.96655862,\n",
       "       24.54754893, 24.54754893, 23.01512881, 20.76151767, 24.54754893,\n",
       "       15.74535562, 15.74535562, 15.74535562, 15.74535562, 24.54754893,\n",
       "       24.54754893, 23.01512881, 20.76151767, 20.76151767, 20.76151767,\n",
       "       24.54754893, 20.76151767, 15.74535562, 15.74535562, 15.74535562,\n",
       "       15.74535562, 15.74535562, 15.74535562, 15.74535562, 20.76151767,\n",
       "       27.71424635, 20.76151767, 24.54754893, 24.54754893, 24.54754893,\n",
       "       31.61939691, 27.71424635, 31.96655862, 31.61939691, 31.96655862,\n",
       "       31.61939691, 23.01512881, 27.71424635, 31.96655862, 24.54754893,\n",
       "       24.54754893, 15.74535562, 15.74535562, 15.74535562, 15.74535562,\n",
       "       15.74535562, 15.74535562, 15.74535562, 15.74535562, 15.74535562,\n",
       "       22.21547999, 15.74535562, 17.95434839, 16.96376992, 15.74535562,\n",
       "       20.76151767, 27.71424635, 24.54754893, 31.61939691, 24.54754893,\n",
       "       24.54754893, 22.21547999, 27.71424635, 24.54754893, 15.74535562,\n",
       "       15.74535562, 16.12667182, 17.78621069, 15.74535562, 15.74535562,\n",
       "       15.74535562, 15.74535562, 15.74535562, 15.74535562, 15.74535562,\n",
       "       15.74535562, 20.76151767, 20.76151767, 20.76151767, 24.54754893,\n",
       "       23.01512881, 31.96655862, 15.74535562, 15.74535562, 15.74535562,\n",
       "       15.74535562, 20.76151767, 24.54754893, 27.71424635, 23.01512881,\n",
       "       24.54754893, 24.54754893, 20.76151767, 24.54754893, 16.12667182,\n",
       "       15.74535562, 31.96655862, 27.71424635, 24.54754893, 20.76151767,\n",
       "       15.74535562, 20.76151767, 19.62901556, 15.74535562, 23.01512881,\n",
       "       20.76151767, 20.76151767, 31.96655862, 27.71424635, 31.96655862,\n",
       "       27.71424635, 20.76151767, 20.76151767, 20.76151767, 16.96376992,\n",
       "       15.74535562, 15.74535562, 16.96376992, 15.74535562, 27.71424635,\n",
       "       31.96655862, 27.71424635, 31.96655862, 31.96655862, 27.71424635,\n",
       "       27.71424635, 27.71424635, 22.21547999, 24.54754893, 31.96655862,\n",
       "       23.01512881, 20.76151767, 27.71424635, 27.71424635, 15.74535562,\n",
       "       16.12667182, 15.74535562, 15.74535562, 20.76151767, 20.76151767,\n",
       "       20.76151767, 23.01512881, 20.76151767, 20.76151767, 17.95434839,\n",
       "       27.71424635, 27.71424635, 20.76151767, 27.71424635, 23.01512881,\n",
       "       28.33261559, 22.21547999, 22.21547999, 31.61939691, 24.54754893,\n",
       "       23.01512881, 24.54754893, 20.76151767, 20.76151767, 31.96655862,\n",
       "       24.54754893, 27.71424635, 24.54754893, 27.71424635, 27.71424635,\n",
       "       16.96376992, 15.74535562, 19.62901556, 15.74535562, 20.76151767,\n",
       "       20.76151767, 27.71424635, 24.54754893, 31.96655862, 31.96655862,\n",
       "       31.61939691, 31.96655862, 20.76151767, 27.71424635, 20.76151767,\n",
       "       23.01512881, 28.33261559, 31.61939691, 27.71424635, 27.71424635,\n",
       "       20.76151767, 15.74535562, 24.54754893, 20.76151767, 19.62901556,\n",
       "       15.74535562, 16.12667182, 17.95434839, 15.74535562, 31.61939691,\n",
       "       27.71424635, 31.96655862, 23.01512881, 31.61939691, 16.12667182,\n",
       "       20.76151767, 16.12667182, 17.95434839, 20.76151767, 20.76151767,\n",
       "       20.76151767, 20.76151767, 15.74535562, 15.74535562, 15.74535562,\n",
       "       15.74535562, 27.71424635, 24.54754893, 27.71424635, 24.54754893,\n",
       "       31.96655862, 27.71424635, 31.96655862, 27.71424635, 22.21547999,\n",
       "       20.76151767, 20.76151767, 31.96655862, 31.96655862, 31.96655862,\n",
       "       31.61939691, 31.96655862, 20.76151767, 16.96376992, 17.78621069,\n",
       "       20.76151767, 23.01512881, 24.54754893, 24.54754893, 20.76151767,\n",
       "       24.54754893, 20.76151767, 24.54754893, 20.76151767, 19.62901556,\n",
       "       16.12667182, 15.74535562, 17.78621069, 16.96376992, 31.61939691,\n",
       "       23.01512881, 22.21547999, 27.71424635, 23.01512881, 20.76151767,\n",
       "       24.54754893, 22.21547999, 20.76151767, 19.62901556, 20.76151767,\n",
       "       17.78621069, 28.33261559, 31.61939691, 20.76151767, 24.54754893,\n",
       "       24.54754893, 24.54754893, 20.76151767, 17.95434839, 17.95434839,\n",
       "       17.78621069, 17.78621069, 15.74535562, 16.12667182, 19.62901556,\n",
       "       15.74535562, 28.33261559, 31.96655862, 27.71424635, 27.71424635,\n",
       "       27.71424635, 19.62901556, 28.33261559, 24.54754893, 31.61939691,\n",
       "       31.61939691, 31.96655862, 31.61939691, 24.54754893, 20.76151767,\n",
       "       20.76151767, 24.54754893, 27.71424635, 31.96655862, 31.61939691,\n",
       "       31.96655862, 24.54754893, 24.54754893, 24.54754893, 24.54754893,\n",
       "       27.71424635, 24.54754893, 27.71424635, 24.54754893, 27.71424635,\n",
       "       31.96655862, 20.76151767, 31.96655862, 31.96655862, 31.96655862,\n",
       "       31.96655862, 31.96655862, 31.96655862, 31.96655862, 31.96655862,\n",
       "       17.95434839, 20.76151767, 24.54754893, 27.71424635, 27.71424635,\n",
       "       27.71424635, 24.54754893, 20.76151767, 27.71424635, 31.96655862,\n",
       "       31.96655862, 31.96655862, 31.96655862, 31.96655862, 31.96655862,\n",
       "       31.61939691, 31.96655862, 31.96655862, 31.96655862, 27.71424635,\n",
       "       27.71424635, 27.71424635, 20.76151767, 27.71424635, 27.71424635,\n",
       "       27.71424635, 20.76151767, 19.62901556, 20.76151767, 20.76151767,\n",
       "       24.54754893, 24.54754893, 24.54754893, 24.54754893, 24.54754893,\n",
       "       24.54754893, 27.71424635, 24.54754893, 24.54754893, 27.71424635,\n",
       "       31.61939691, 31.61939691, 31.96655862, 31.61939691, 24.54754893,\n",
       "       27.71424635, 31.61939691, 31.96655862, 31.96655862, 31.96655862,\n",
       "       20.76151767, 24.54754893, 24.54754893, 20.76151767, 23.01512881,\n",
       "       27.71424635, 24.54754893, 24.54754893, 31.96655862, 27.71424635,\n",
       "       27.71424635, 27.71424635])"
      ]
     },
     "execution_count": 77,
     "metadata": {},
     "output_type": "execute_result"
    }
   ],
   "source": [
    "gbr = GradientBoostingRegressor(learning_rate=0.03, n_estimators=100, random_state=0, max_depth=1)\n",
    "gbr.fit(X, y)\n",
    "gbr.predict(X)\n",
    "\n"
   ]
  },
  {
   "cell_type": "code",
   "execution_count": 81,
   "id": "20d84a02-6185-47fa-968f-989cea551851",
   "metadata": {},
   "outputs": [],
   "source": [
    "results = []\n",
    "idx = 0\n",
    "for t in gbr.estimators_:\n",
    "    result = t[0].predict([X[idx]])\n",
    "    results.append(result * 0.03)"
   ]
  },
  {
   "cell_type": "code",
   "execution_count": 88,
   "id": "ce45d3ac-df71-4c96-88de-2ecce86881e4",
   "metadata": {},
   "outputs": [],
   "source": [
    "import numpy as np\n",
    "F0 = np.mean(y)\n",
    "Fb = F0 + np.cumsum(results)"
   ]
  },
  {
   "cell_type": "code",
   "execution_count": 89,
   "id": "ff18ca4d-9084-40f0-a40f-12c91a01b77d",
   "metadata": {},
   "outputs": [
    {
     "data": {
      "text/plain": [
       "array([23.27816327, 23.11544082, 22.94214051, 22.83197263, 22.66717637,\n",
       "       22.56240126, 22.39804993, 22.29831511, 22.16208788, 22.06741995,\n",
       "       21.91791807, 21.82781582, 21.68550205, 21.48669171, 21.40205747,\n",
       "       21.21175047, 21.13072954, 20.93845051, 20.8608364 , 20.73833629,\n",
       "       20.55782906, 20.50937386, 20.40900234, 20.36266681, 20.19342967,\n",
       "       20.12570603, 19.9635777 , 19.92025031, 19.77227178, 19.72881191,\n",
       "       19.57859041, 19.53845808, 19.44223474, 19.38388218, 19.24400857,\n",
       "       19.20663613, 19.07207991, 19.03612626, 18.96133881, 18.8341415 ,\n",
       "       18.80004406, 18.8386471 , 18.80441851, 18.75583214, 18.79101068,\n",
       "       18.76000512, 18.65335356, 18.58370409, 18.55427539, 18.58646165,\n",
       "       18.55812939, 18.58911825, 18.54763487, 18.57735466, 18.55081739,\n",
       "       18.48743756, 18.46201512, 18.48989963, 18.43780306, 18.41367401,\n",
       "       18.43872786, 18.41448352, 18.43860796, 18.4045305 , 18.32739886,\n",
       "       18.30562399, 18.32804948, 18.30707665, 18.25674972, 18.27797958,\n",
       "       18.25802989, 18.21663751, 18.23678063, 18.21783775, 18.18985027,\n",
       "       18.21012963, 18.1922554 , 18.2107737 , 18.19281859, 18.13342068,\n",
       "       18.10827392, 18.12548502, 18.10935421, 18.07082487, 18.0860757 ,\n",
       "       18.07072377, 18.08644758, 18.07440253, 18.04354516, 18.0575529 ,\n",
       "       18.04606597, 18.0322826 , 18.04570816, 18.02544619, 17.97945888,\n",
       "       17.96889857, 17.98142911, 17.97124056, 17.94244361, 17.95434839])"
      ]
     },
     "execution_count": 89,
     "metadata": {},
     "output_type": "execute_result"
    }
   ],
   "source": [
    "Fb"
   ]
  },
  {
   "cell_type": "code",
   "execution_count": 93,
   "id": "8b75d3ac-41de-4bc0-9ae2-687931307e0c",
   "metadata": {},
   "outputs": [
    {
     "data": {
      "text/plain": [
       "[<matplotlib.lines.Line2D at 0x7f3ac5d8a8b0>]"
      ]
     },
     "execution_count": 93,
     "metadata": {},
     "output_type": "execute_result"
    },
    {
     "data": {
      "image/png": "[encoded data removed]",
      "text/plain": [
       "<Figure size 640x480 with 1 Axes>"
      ]
     },
     "metadata": {},
     "output_type": "display_data"
    }
   ],
   "source": [
    "# イテレーションを繰り返す中で真の値に近づいている\n",
    "import matplotlib.pyplot as plt\n",
    "plt.plot(Fb)"
   ]
  },
  {
   "cell_type": "code",
   "execution_count": null,
   "id": "875f4aa9-8d4b-4c87-8403-2e426dedfc1f",
   "metadata": {},
   "outputs": [],
   "source": []
  }
 ],
 "metadata": {
  "kernelspec": {
   "display_name": "Python 3 (ipykernel)",
   "language": "python",
   "name": "python3"
  },
  "language_info": {
   "codemirror_mode": {
    "name": "ipython",
    "version": 3
   },
   "file_extension": ".py",
   "mimetype": "text/x-python",
   "name": "python",
   "nbconvert_exporter": "python",
   "pygments_lexer": "ipython3",
   "version": "3.9.13"
  }
 },
 "nbformat": 4,
 "nbformat_minor": 5
}
