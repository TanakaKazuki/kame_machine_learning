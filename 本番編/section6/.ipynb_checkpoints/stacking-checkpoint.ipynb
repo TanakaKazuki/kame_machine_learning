{
 "cells": [
  {
   "cell_type": "markdown",
   "id": "04352ec3-4f94-4ef6-8e55-e5af148ca8a4",
   "metadata": {},
   "source": [
    "## stacking"
   ]
  },
  {
   "cell_type": "code",
   "execution_count": 31,
   "id": "b6e73e57-180e-440b-96ed-044dc912dd92",
   "metadata": {},
   "outputs": [],
   "source": [
    "# データ準備\n",
    "import seaborn as sns\n",
    "import pandas as pd\n",
    "from sklearn.preprocessing import OrdinalEncoder\n",
    "from sklearn.model_selection import train_test_split\n",
    "import numpy as np\n",
    "df = sns.load_dataset('titanic')\n",
    "df.dropna(inplace = True)\n",
    "# X,yを作成\n",
    "X = df.loc[:, (df.columns != 'survived') & (df.columns != 'alive')]\n",
    "y = df['survived']\n",
    "\n",
    "oe = OrdinalEncoder()\n",
    "oe.set_output(transform='pandas')\n",
    "X = oe.fit_transform(X)\n",
    "X_train, X_test, y_train, y_test = train_test_split(X, y, test_size=0.3, random_state=0)"
   ]
  },
  {
   "cell_type": "markdown",
   "id": "010f177c-96e7-45f7-8d1c-8772833a92c2",
   "metadata": {},
   "source": [
    "### stackingの実装\n",
    "- StackingClassifierCVクラス\n",
    " - 2値分類にのみ対応\n",
    " - estimators引数：1層目のモデルのリスト[('model_name', model), ... ]\n",
    " - final_estimator引数：2層目のsklearnモデルインスタンス\n",
    " - cv引数：sklearnのCVオブジェクト\n",
    " - .fit, .predict_probaメソッドを実装"
   ]
  },
  {
   "cell_type": "code",
   "execution_count": 34,
   "id": "56078d1f-ea13-41ad-9d58-cd5580b03616",
   "metadata": {},
   "outputs": [],
   "source": [
    "class StackingClassifierCV():\n",
    "    def __init__(self, estimators, final_estimator, cv):\n",
    "        self.estimators = estimators # [('rf', RandomForest()),('knn',KNeighborsClassifier), ...]\n",
    "        self.final_estimator = final_estimator\n",
    "        self.cv = cv\n",
    "        \n",
    "    def fit(self, X, y ):\n",
    "        # まず1層目\n",
    "        pred_features = {}\n",
    "        for model_name, model in self.estimators:\n",
    "            # それぞれのfoldのtrain, valのindex情報\n",
    "            preds = []\n",
    "            new_y = []\n",
    "            for train_idx, val_idx in self.cv.split(X):\n",
    "                X_train = X.iloc[train_idx]\n",
    "                X_val = X.iloc[val_idx]\n",
    "                y_train = y.iloc[train_idx]\n",
    "                y_val = y.iloc[val_idx]\n",
    "                \n",
    "                model.fit(X_train, y_train)\n",
    "                \n",
    "                pred = model.predict_proba(X_val)[:, 1].tolist()\n",
    "                preds += pred\n",
    "                new_y += y_val.tolist()\n",
    "            \n",
    "            model.fit(X, y) # 予測値算出時に1️⃣の手法でやるため\n",
    "            pred_features[model_name] = preds\n",
    "        \n",
    "        # ２層目のモデル学習\n",
    "        \n",
    "        new_x = pd.DataFrame(pred_features)\n",
    "        self.final_estimator.fit(new_x, new_y)\n",
    "    \n",
    "    # 予測値算出方法\n",
    "    # 以下のうち、今回は1️⃣を採用した。2️⃣なら各イテレーションのmodelを格納して使うように修正が必要\n",
    "    # 1️⃣もう一度全てのデータで学習して予測\n",
    "    # 2️⃣既に学習したモデルの平均値を予測結果とする\n",
    "    def predict_proba(self, X):\n",
    "        # 1層目のモデルで特徴量（予測値）を生成\n",
    "        pred_features = {}\n",
    "        \n",
    "        for model_name, model in self.estimators:\n",
    "            pred = model.predict_proba(X)[:, 1]\n",
    "            pred_features[model_name] = pred\n",
    "            \n",
    "        \n",
    "        new_X = pd.DataFrame(pred_features)\n",
    "        \n",
    "        final_pred = self.final_estimator.predict_proba(new_X)\n",
    "        \n",
    "        return final_pred\n",
    "        \n",
    "        "
   ]
  },
  {
   "cell_type": "code",
   "execution_count": 38,
   "id": "6d4ec54e-1627-440b-b8a3-280fcffcbdc2",
   "metadata": {},
   "outputs": [
    {
     "name": "stderr",
     "output_type": "stream",
     "text": [
      "/opt/anaconda3/lib/python3.9/site-packages/sklearn/linear_model/_logistic.py:458: ConvergenceWarning: lbfgs failed to converge (status=1):\n",
      "STOP: TOTAL NO. of ITERATIONS REACHED LIMIT.\n",
      "\n",
      "Increase the number of iterations (max_iter) or scale the data as shown in:\n",
      "    https://scikit-learn.org/stable/modules/preprocessing.html\n",
      "Please also refer to the documentation for alternative solver options:\n",
      "    https://scikit-learn.org/stable/modules/linear_model.html#logistic-regression\n",
      "  n_iter_i = _check_optimize_result(\n",
      "/opt/anaconda3/lib/python3.9/site-packages/sklearn/linear_model/_logistic.py:458: ConvergenceWarning: lbfgs failed to converge (status=1):\n",
      "STOP: TOTAL NO. of ITERATIONS REACHED LIMIT.\n",
      "\n",
      "Increase the number of iterations (max_iter) or scale the data as shown in:\n",
      "    https://scikit-learn.org/stable/modules/preprocessing.html\n",
      "Please also refer to the documentation for alternative solver options:\n",
      "    https://scikit-learn.org/stable/modules/linear_model.html#logistic-regression\n",
      "  n_iter_i = _check_optimize_result(\n",
      "/opt/anaconda3/lib/python3.9/site-packages/sklearn/linear_model/_logistic.py:458: ConvergenceWarning: lbfgs failed to converge (status=1):\n",
      "STOP: TOTAL NO. of ITERATIONS REACHED LIMIT.\n",
      "\n",
      "Increase the number of iterations (max_iter) or scale the data as shown in:\n",
      "    https://scikit-learn.org/stable/modules/preprocessing.html\n",
      "Please also refer to the documentation for alternative solver options:\n",
      "    https://scikit-learn.org/stable/modules/linear_model.html#logistic-regression\n",
      "  n_iter_i = _check_optimize_result(\n",
      "/opt/anaconda3/lib/python3.9/site-packages/sklearn/linear_model/_logistic.py:458: ConvergenceWarning: lbfgs failed to converge (status=1):\n",
      "STOP: TOTAL NO. of ITERATIONS REACHED LIMIT.\n",
      "\n",
      "Increase the number of iterations (max_iter) or scale the data as shown in:\n",
      "    https://scikit-learn.org/stable/modules/preprocessing.html\n",
      "Please also refer to the documentation for alternative solver options:\n",
      "    https://scikit-learn.org/stable/modules/linear_model.html#logistic-regression\n",
      "  n_iter_i = _check_optimize_result(\n",
      "/opt/anaconda3/lib/python3.9/site-packages/sklearn/linear_model/_logistic.py:458: ConvergenceWarning: lbfgs failed to converge (status=1):\n",
      "STOP: TOTAL NO. of ITERATIONS REACHED LIMIT.\n",
      "\n",
      "Increase the number of iterations (max_iter) or scale the data as shown in:\n",
      "    https://scikit-learn.org/stable/modules/preprocessing.html\n",
      "Please also refer to the documentation for alternative solver options:\n",
      "    https://scikit-learn.org/stable/modules/linear_model.html#logistic-regression\n",
      "  n_iter_i = _check_optimize_result(\n",
      "/opt/anaconda3/lib/python3.9/site-packages/sklearn/linear_model/_logistic.py:458: ConvergenceWarning: lbfgs failed to converge (status=1):\n",
      "STOP: TOTAL NO. of ITERATIONS REACHED LIMIT.\n",
      "\n",
      "Increase the number of iterations (max_iter) or scale the data as shown in:\n",
      "    https://scikit-learn.org/stable/modules/preprocessing.html\n",
      "Please also refer to the documentation for alternative solver options:\n",
      "    https://scikit-learn.org/stable/modules/linear_model.html#logistic-regression\n",
      "  n_iter_i = _check_optimize_result(\n"
     ]
    }
   ],
   "source": [
    "from sklearn.ensemble import RandomForestClassifier\n",
    "from sklearn.neighbors import KNeighborsClassifier\n",
    "from sklearn.linear_model import LogisticRegression\n",
    "from sklearn.model_selection import KFold\n",
    "\n",
    "cv = KFold(n_splits=5, shuffle=True, random_state= 0)\n",
    "final_estimator = LogisticRegression()\n",
    "stacking_cv = StackingClassifierCV(estimators= [('rf', RandomForestClassifier()), ('knn', KNeighborsClassifier()), ('logisticregression', LogisticRegression()) ],\n",
    "                                  final_estimator=final_estimator,\n",
    "                                  cv=cv)\n",
    "\n",
    "stacking_cv.fit(X_train, y_train)\n",
    "y_pred_stacking_cv = stacking_cv.predict_proba(X_test)\n",
    "\n",
    "\n"
   ]
  },
  {
   "cell_type": "code",
   "execution_count": 39,
   "id": "e928b5fc-a418-4e0d-b449-15391b3662b4",
   "metadata": {},
   "outputs": [
    {
     "name": "stdout",
     "output_type": "stream",
     "text": [
      "stackingCV AUC: 0.8557692307692308\n"
     ]
    }
   ],
   "source": [
    "from sklearn.metrics import roc_auc_score\n",
    "print(f\"stackingCV AUC: {roc_auc_score(y_test, y_pred_stacking_cv[:,1])}\")"
   ]
  },
  {
   "cell_type": "code",
   "execution_count": null,
   "id": "5a1a2ed6-4346-43cf-bcbd-2cd6e1984373",
   "metadata": {},
   "outputs": [],
   "source": []
  }
 ],
 "metadata": {
  "kernelspec": {
   "display_name": "Python 3 (ipykernel)",
   "language": "python",
   "name": "python3"
  },
  "language_info": {
   "codemirror_mode": {
    "name": "ipython",
    "version": 3
   },
   "file_extension": ".py",
   "mimetype": "text/x-python",
   "name": "python",
   "nbconvert_exporter": "python",
   "pygments_lexer": "ipython3",
   "version": "3.9.13"
  }
 },
 "nbformat": 4,
 "nbformat_minor": 5
}
